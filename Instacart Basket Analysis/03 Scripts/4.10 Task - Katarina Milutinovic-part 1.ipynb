{
 "cells": [
  {
   "cell_type": "markdown",
   "id": "343bcff3",
   "metadata": {},
   "source": [
    "# 1.Importing Libraries and Data"
   ]
  },
  {
   "cell_type": "code",
   "execution_count": 3,
   "id": "62297078",
   "metadata": {},
   "outputs": [],
   "source": [
    "import pandas as pd\n",
    "import numpy as np\n",
    "import os\n",
    "import matplotlib.pyplot as plt\n",
    "import seaborn as sns\n",
    "import scipy"
   ]
  },
  {
   "cell_type": "code",
   "execution_count": 4,
   "id": "c7971c0a",
   "metadata": {},
   "outputs": [],
   "source": [
    "path = r'C:\\Users\\kamil\\Documents\\Instacart Basket Analysis'"
   ]
  },
  {
   "cell_type": "code",
   "execution_count": 5,
   "id": "106192c3",
   "metadata": {},
   "outputs": [],
   "source": [
    "complete_data = pd.read_pickle(os.path.join(path, '02 Data', 'Prepared Data', 'df_merged_final.pkl'))"
   ]
  },
  {
   "cell_type": "markdown",
   "id": "b213fe6a",
   "metadata": {},
   "source": [
    "# 3.Data Privacy\n"
   ]
  },
  {
   "cell_type": "markdown",
   "id": "79c882f9",
   "metadata": {},
   "source": [
    "Consider any security implications that might exist for this new data. You’ll need to address any PII data in the data before continuing your analysis."
   ]
  },
  {
   "cell_type": "code",
   "execution_count": 6,
   "id": "c395ca46",
   "metadata": {},
   "outputs": [
    {
     "data": {
      "text/plain": [
       "Index(['order_id', 'user_id', 'eval_set', 'order_number', 'order_dow',\n",
       "       'order_hour_of_day', 'days_since_prior_order', 'product_id',\n",
       "       'add_to_cart_order', 'reordered', 'Unnamed: 0', 'product_name',\n",
       "       'aisle_id', 'department_id', 'prices', '_merge', 'price_range_loc',\n",
       "       'Busiest day', 'busiest_days', 'busiest_period_of_day', 'max_order',\n",
       "       'loyalty_flag', 'avg_price', 'spender_flag',\n",
       "       'median_days_since_prior_order', 'frequency_flag', 'first_name',\n",
       "       'surname', 'gender', 'state', 'age', 'date_joined', 'no_of_dependants',\n",
       "       'marital_status', 'income'],\n",
       "      dtype='object')"
      ]
     },
     "execution_count": 6,
     "metadata": {},
     "output_type": "execute_result"
    }
   ],
   "source": [
    "#checking the names of the column to indentify any potential PII data columns\n",
    "complete_data.columns"
   ]
  },
  {
   "cell_type": "code",
   "execution_count": 7,
   "id": "186e4454",
   "metadata": {},
   "outputs": [],
   "source": [
    "#dropping of name columns\n",
    "complete_data = complete_data.drop(columns=['first_name', 'surname'])"
   ]
  },
  {
   "cell_type": "code",
   "execution_count": 8,
   "id": "b5129ed2",
   "metadata": {},
   "outputs": [
    {
     "data": {
      "text/plain": [
       "Index(['order_id', 'user_id', 'eval_set', 'order_number', 'order_dow',\n",
       "       'order_hour_of_day', 'days_since_prior_order', 'product_id',\n",
       "       'add_to_cart_order', 'reordered', 'Unnamed: 0', 'product_name',\n",
       "       'aisle_id', 'department_id', 'prices', '_merge', 'price_range_loc',\n",
       "       'Busiest day', 'busiest_days', 'busiest_period_of_day', 'max_order',\n",
       "       'loyalty_flag', 'avg_price', 'spender_flag',\n",
       "       'median_days_since_prior_order', 'frequency_flag', 'gender', 'state',\n",
       "       'age', 'date_joined', 'no_of_dependants', 'marital_status', 'income'],\n",
       "      dtype='object')"
      ]
     },
     "execution_count": 8,
     "metadata": {},
     "output_type": "execute_result"
    }
   ],
   "source": [
    "complete_data.columns"
   ]
  },
  {
   "cell_type": "markdown",
   "id": "62386ac7",
   "metadata": {},
   "source": [
    "# 4.Creating Regions: Northeast, Midwest, South, West"
   ]
  },
  {
   "cell_type": "markdown",
   "id": "0f340335",
   "metadata": {},
   "source": [
    "Determine whether there’s a difference in spending habits between the different U.S. regions. (Hint: You can do this by crossing the variable you just created with the spending flag.)"
   ]
  },
  {
   "cell_type": "code",
   "execution_count": 9,
   "id": "a0d7720f",
   "metadata": {},
   "outputs": [],
   "source": [
    "#Creating region lists\n",
    "northeast=['Maine','New Hampshire','Vermont','Massachusetts','Rhode Island','Connecticut','New York','Pennsylvania','New Jersey']\n",
    "midwest=['Wisconsin','Michigan','Illinois','Indiana','Ohio','North Dakota','South Dakota','Nebraska','Kansas','Minnesota','Iowa','Missouri']\n",
    "south=['Delaware','Maryland','District of Columbia','Virginia','West Virginia','North Carolina','South Carolina','Georgia','Florida','Kentucky', 'Tennessee','Mississippi','Alabama','Oklahoma','Texas','Arkansas','Louisiana']\n",
    "west=['Idaho','Montana','Wyoming','Nevada','Utah','Colorado','Arizona','New Mexico','Alaska','Washington','Oregon','California','Hawaii']"
   ]
  },
  {
   "cell_type": "code",
   "execution_count": 10,
   "id": "94a68c72",
   "metadata": {},
   "outputs": [],
   "source": [
    "#Creating of the regional flags\n",
    "complete_data.loc[complete_data['state'].isin(northeast), 'region']='Northeast'\n",
    "complete_data.loc[complete_data['state'].isin(midwest), 'region']='Midwest'\n",
    "complete_data.loc[complete_data['state'].isin(south), 'region']='South'\n",
    "complete_data.loc[complete_data['state'].isin(west), 'region']='West'"
   ]
  },
  {
   "cell_type": "code",
   "execution_count": 11,
   "id": "fd7d291f",
   "metadata": {},
   "outputs": [
    {
     "data": {
      "text/plain": [
       "South        10791885\n",
       "West          8292913\n",
       "Midwest       7597325\n",
       "Northeast     5722736\n",
       "Name: region, dtype: int64"
      ]
     },
     "execution_count": 11,
     "metadata": {},
     "output_type": "execute_result"
    }
   ],
   "source": [
    "#checking frequency\n",
    "complete_data['region'].value_counts(dropna=False)"
   ]
  },
  {
   "cell_type": "markdown",
   "id": "4097f0e8",
   "metadata": {},
   "source": [
    "# 5.Comparing Regions"
   ]
  },
  {
   "cell_type": "markdown",
   "id": "2bc41d07",
   "metadata": {},
   "source": [
    "Determine whether there’s a difference in spending habits between the different U.S. regions."
   ]
  },
  {
   "cell_type": "code",
   "execution_count": 12,
   "id": "fa349a0d",
   "metadata": {},
   "outputs": [],
   "source": [
    "#creating crosstab to compare region and spending flag\n",
    "crosstab = pd.crosstab(complete_data['region'], complete_data['spender_flag'], dropna = False)"
   ]
  },
  {
   "cell_type": "code",
   "execution_count": 13,
   "id": "8788aaaf",
   "metadata": {},
   "outputs": [
    {
     "data": {
      "text/html": [
       "<div>\n",
       "<style scoped>\n",
       "    .dataframe tbody tr th:only-of-type {\n",
       "        vertical-align: middle;\n",
       "    }\n",
       "\n",
       "    .dataframe tbody tr th {\n",
       "        vertical-align: top;\n",
       "    }\n",
       "\n",
       "    .dataframe thead th {\n",
       "        text-align: right;\n",
       "    }\n",
       "</style>\n",
       "<table border=\"1\" class=\"dataframe\">\n",
       "  <thead>\n",
       "    <tr style=\"text-align: right;\">\n",
       "      <th>spender_flag</th>\n",
       "      <th>High spender</th>\n",
       "      <th>Low spender</th>\n",
       "    </tr>\n",
       "    <tr>\n",
       "      <th>region</th>\n",
       "      <th></th>\n",
       "      <th></th>\n",
       "    </tr>\n",
       "  </thead>\n",
       "  <tbody>\n",
       "    <tr>\n",
       "      <th>Midwest</th>\n",
       "      <td>155975</td>\n",
       "      <td>7441350</td>\n",
       "    </tr>\n",
       "    <tr>\n",
       "      <th>Northeast</th>\n",
       "      <td>108225</td>\n",
       "      <td>5614511</td>\n",
       "    </tr>\n",
       "    <tr>\n",
       "      <th>South</th>\n",
       "      <td>209691</td>\n",
       "      <td>10582194</td>\n",
       "    </tr>\n",
       "    <tr>\n",
       "      <th>West</th>\n",
       "      <td>160354</td>\n",
       "      <td>8132559</td>\n",
       "    </tr>\n",
       "  </tbody>\n",
       "</table>\n",
       "</div>"
      ],
      "text/plain": [
       "spender_flag  High spender  Low spender\n",
       "region                                 \n",
       "Midwest             155975      7441350\n",
       "Northeast           108225      5614511\n",
       "South               209691     10582194\n",
       "West                160354      8132559"
      ]
     },
     "execution_count": 13,
     "metadata": {},
     "output_type": "execute_result"
    }
   ],
   "source": [
    "crosstab"
   ]
  },
  {
   "cell_type": "markdown",
   "id": "0f7ad202",
   "metadata": {},
   "source": [
    "The South has more high spenders and more low spenders than all the other regions. "
   ]
  },
  {
   "cell_type": "code",
   "execution_count": 14,
   "id": "ab5a7f31",
   "metadata": {},
   "outputs": [
    {
     "data": {
      "text/plain": [
       "region\n",
       "Midwest      12\n",
       "Northeast     9\n",
       "South        17\n",
       "West         13\n",
       "Name: state, dtype: int64"
      ]
     },
     "execution_count": 14,
     "metadata": {},
     "output_type": "execute_result"
    }
   ],
   "source": [
    "#Number of states per region\n",
    "complete_data.groupby('region')['state'].nunique()"
   ]
  },
  {
   "cell_type": "code",
   "execution_count": 15,
   "id": "558388a9",
   "metadata": {},
   "outputs": [
    {
     "data": {
      "text/plain": [
       "region\n",
       "Midwest      48519\n",
       "Northeast    36388\n",
       "South        68737\n",
       "West         52565\n",
       "Name: user_id, dtype: int64"
      ]
     },
     "execution_count": 15,
     "metadata": {},
     "output_type": "execute_result"
    }
   ],
   "source": [
    "#Number of customers per region\n",
    "complete_data.groupby('region')['user_id'].nunique()"
   ]
  },
  {
   "cell_type": "markdown",
   "id": "7a5a41c6",
   "metadata": {},
   "source": [
    "The south has more states in the region and more customers."
   ]
  },
  {
   "cell_type": "markdown",
   "id": "caf450dc",
   "metadata": {},
   "source": [
    "# 6.Creating Exclusion Flag"
   ]
  },
  {
   "cell_type": "markdown",
   "id": "6369eead",
   "metadata": {},
   "source": [
    "The Instacart CFO isn’t interested in customers who don’t generate much revenue for the app. Create an exclusion flag for low-activity customers (customers with less than 5 orders) and exclude them from the data. Make sure you export this sample."
   ]
  },
  {
   "cell_type": "code",
   "execution_count": 16,
   "id": "1600131f",
   "metadata": {},
   "outputs": [],
   "source": [
    "#Creating exclusion flag for low-activity customers: less than 5(0) and equal to or more than 5 (1)\n",
    "complete_data.loc[complete_data['max_order']>=5, 'activity']='1'\n",
    "complete_data.loc[complete_data['max_order']<5, 'activity']='0'"
   ]
  },
  {
   "cell_type": "code",
   "execution_count": 17,
   "id": "1ac8466a",
   "metadata": {},
   "outputs": [
    {
     "data": {
      "text/plain": [
       "1    30964564\n",
       "0     1440295\n",
       "Name: activity, dtype: int64"
      ]
     },
     "execution_count": 17,
     "metadata": {},
     "output_type": "execute_result"
    }
   ],
   "source": [
    "complete_data['activity'].value_counts(dropna=False)"
   ]
  },
  {
   "cell_type": "code",
   "execution_count": 18,
   "id": "c5bcd9b7",
   "metadata": {},
   "outputs": [],
   "source": [
    "#Creating a dataset of customers with orders lower than 5\n",
    "low_activity=complete_data[complete_data['activity']=='0']"
   ]
  },
  {
   "cell_type": "code",
   "execution_count": 19,
   "id": "334dab80",
   "metadata": {},
   "outputs": [
    {
     "data": {
      "text/html": [
       "<div>\n",
       "<style scoped>\n",
       "    .dataframe tbody tr th:only-of-type {\n",
       "        vertical-align: middle;\n",
       "    }\n",
       "\n",
       "    .dataframe tbody tr th {\n",
       "        vertical-align: top;\n",
       "    }\n",
       "\n",
       "    .dataframe thead th {\n",
       "        text-align: right;\n",
       "    }\n",
       "</style>\n",
       "<table border=\"1\" class=\"dataframe\">\n",
       "  <thead>\n",
       "    <tr style=\"text-align: right;\">\n",
       "      <th></th>\n",
       "      <th>order_id</th>\n",
       "      <th>user_id</th>\n",
       "      <th>eval_set</th>\n",
       "      <th>order_number</th>\n",
       "      <th>order_dow</th>\n",
       "      <th>order_hour_of_day</th>\n",
       "      <th>days_since_prior_order</th>\n",
       "      <th>product_id</th>\n",
       "      <th>add_to_cart_order</th>\n",
       "      <th>reordered</th>\n",
       "      <th>...</th>\n",
       "      <th>frequency_flag</th>\n",
       "      <th>gender</th>\n",
       "      <th>state</th>\n",
       "      <th>age</th>\n",
       "      <th>date_joined</th>\n",
       "      <th>no_of_dependants</th>\n",
       "      <th>marital_status</th>\n",
       "      <th>income</th>\n",
       "      <th>region</th>\n",
       "      <th>activity</th>\n",
       "    </tr>\n",
       "  </thead>\n",
       "  <tbody>\n",
       "    <tr>\n",
       "      <th>1510</th>\n",
       "      <td>520620</td>\n",
       "      <td>120</td>\n",
       "      <td>prior</td>\n",
       "      <td>1</td>\n",
       "      <td>3</td>\n",
       "      <td>11</td>\n",
       "      <td>0</td>\n",
       "      <td>196</td>\n",
       "      <td>2</td>\n",
       "      <td>0</td>\n",
       "      <td>...</td>\n",
       "      <td>Regular customer</td>\n",
       "      <td>Female</td>\n",
       "      <td>Kentucky</td>\n",
       "      <td>54</td>\n",
       "      <td>3/2/2017</td>\n",
       "      <td>2</td>\n",
       "      <td>married</td>\n",
       "      <td>99219</td>\n",
       "      <td>South</td>\n",
       "      <td>0</td>\n",
       "    </tr>\n",
       "    <tr>\n",
       "      <th>1511</th>\n",
       "      <td>3273029</td>\n",
       "      <td>120</td>\n",
       "      <td>prior</td>\n",
       "      <td>3</td>\n",
       "      <td>2</td>\n",
       "      <td>8</td>\n",
       "      <td>19</td>\n",
       "      <td>196</td>\n",
       "      <td>2</td>\n",
       "      <td>1</td>\n",
       "      <td>...</td>\n",
       "      <td>Regular customer</td>\n",
       "      <td>Female</td>\n",
       "      <td>Kentucky</td>\n",
       "      <td>54</td>\n",
       "      <td>3/2/2017</td>\n",
       "      <td>2</td>\n",
       "      <td>married</td>\n",
       "      <td>99219</td>\n",
       "      <td>South</td>\n",
       "      <td>0</td>\n",
       "    </tr>\n",
       "    <tr>\n",
       "      <th>1512</th>\n",
       "      <td>520620</td>\n",
       "      <td>120</td>\n",
       "      <td>prior</td>\n",
       "      <td>1</td>\n",
       "      <td>3</td>\n",
       "      <td>11</td>\n",
       "      <td>0</td>\n",
       "      <td>46149</td>\n",
       "      <td>1</td>\n",
       "      <td>0</td>\n",
       "      <td>...</td>\n",
       "      <td>Regular customer</td>\n",
       "      <td>Female</td>\n",
       "      <td>Kentucky</td>\n",
       "      <td>54</td>\n",
       "      <td>3/2/2017</td>\n",
       "      <td>2</td>\n",
       "      <td>married</td>\n",
       "      <td>99219</td>\n",
       "      <td>South</td>\n",
       "      <td>0</td>\n",
       "    </tr>\n",
       "    <tr>\n",
       "      <th>1513</th>\n",
       "      <td>3273029</td>\n",
       "      <td>120</td>\n",
       "      <td>prior</td>\n",
       "      <td>3</td>\n",
       "      <td>2</td>\n",
       "      <td>8</td>\n",
       "      <td>19</td>\n",
       "      <td>46149</td>\n",
       "      <td>1</td>\n",
       "      <td>1</td>\n",
       "      <td>...</td>\n",
       "      <td>Regular customer</td>\n",
       "      <td>Female</td>\n",
       "      <td>Kentucky</td>\n",
       "      <td>54</td>\n",
       "      <td>3/2/2017</td>\n",
       "      <td>2</td>\n",
       "      <td>married</td>\n",
       "      <td>99219</td>\n",
       "      <td>South</td>\n",
       "      <td>0</td>\n",
       "    </tr>\n",
       "    <tr>\n",
       "      <th>1514</th>\n",
       "      <td>520620</td>\n",
       "      <td>120</td>\n",
       "      <td>prior</td>\n",
       "      <td>1</td>\n",
       "      <td>3</td>\n",
       "      <td>11</td>\n",
       "      <td>0</td>\n",
       "      <td>26348</td>\n",
       "      <td>3</td>\n",
       "      <td>0</td>\n",
       "      <td>...</td>\n",
       "      <td>Regular customer</td>\n",
       "      <td>Female</td>\n",
       "      <td>Kentucky</td>\n",
       "      <td>54</td>\n",
       "      <td>3/2/2017</td>\n",
       "      <td>2</td>\n",
       "      <td>married</td>\n",
       "      <td>99219</td>\n",
       "      <td>South</td>\n",
       "      <td>0</td>\n",
       "    </tr>\n",
       "    <tr>\n",
       "      <th>...</th>\n",
       "      <td>...</td>\n",
       "      <td>...</td>\n",
       "      <td>...</td>\n",
       "      <td>...</td>\n",
       "      <td>...</td>\n",
       "      <td>...</td>\n",
       "      <td>...</td>\n",
       "      <td>...</td>\n",
       "      <td>...</td>\n",
       "      <td>...</td>\n",
       "      <td>...</td>\n",
       "      <td>...</td>\n",
       "      <td>...</td>\n",
       "      <td>...</td>\n",
       "      <td>...</td>\n",
       "      <td>...</td>\n",
       "      <td>...</td>\n",
       "      <td>...</td>\n",
       "      <td>...</td>\n",
       "      <td>...</td>\n",
       "      <td>...</td>\n",
       "    </tr>\n",
       "    <tr>\n",
       "      <th>32404828</th>\n",
       "      <td>1947537</td>\n",
       "      <td>166751</td>\n",
       "      <td>prior</td>\n",
       "      <td>3</td>\n",
       "      <td>4</td>\n",
       "      <td>7</td>\n",
       "      <td>0</td>\n",
       "      <td>49001</td>\n",
       "      <td>1</td>\n",
       "      <td>1</td>\n",
       "      <td>...</td>\n",
       "      <td>Frequent customer</td>\n",
       "      <td>Female</td>\n",
       "      <td>Oregon</td>\n",
       "      <td>38</td>\n",
       "      <td>8/17/2018</td>\n",
       "      <td>1</td>\n",
       "      <td>married</td>\n",
       "      <td>41766</td>\n",
       "      <td>West</td>\n",
       "      <td>0</td>\n",
       "    </tr>\n",
       "    <tr>\n",
       "      <th>32404855</th>\n",
       "      <td>484769</td>\n",
       "      <td>66343</td>\n",
       "      <td>prior</td>\n",
       "      <td>1</td>\n",
       "      <td>6</td>\n",
       "      <td>11</td>\n",
       "      <td>0</td>\n",
       "      <td>47210</td>\n",
       "      <td>1</td>\n",
       "      <td>0</td>\n",
       "      <td>...</td>\n",
       "      <td>Non-frequent customer</td>\n",
       "      <td>Female</td>\n",
       "      <td>Tennessee</td>\n",
       "      <td>22</td>\n",
       "      <td>9/12/2017</td>\n",
       "      <td>3</td>\n",
       "      <td>married</td>\n",
       "      <td>46151</td>\n",
       "      <td>South</td>\n",
       "      <td>0</td>\n",
       "    </tr>\n",
       "    <tr>\n",
       "      <th>32404856</th>\n",
       "      <td>1561557</td>\n",
       "      <td>66343</td>\n",
       "      <td>prior</td>\n",
       "      <td>2</td>\n",
       "      <td>1</td>\n",
       "      <td>11</td>\n",
       "      <td>30</td>\n",
       "      <td>47210</td>\n",
       "      <td>1</td>\n",
       "      <td>1</td>\n",
       "      <td>...</td>\n",
       "      <td>Non-frequent customer</td>\n",
       "      <td>Female</td>\n",
       "      <td>Tennessee</td>\n",
       "      <td>22</td>\n",
       "      <td>9/12/2017</td>\n",
       "      <td>3</td>\n",
       "      <td>married</td>\n",
       "      <td>46151</td>\n",
       "      <td>South</td>\n",
       "      <td>0</td>\n",
       "    </tr>\n",
       "    <tr>\n",
       "      <th>32404857</th>\n",
       "      <td>276317</td>\n",
       "      <td>66343</td>\n",
       "      <td>prior</td>\n",
       "      <td>3</td>\n",
       "      <td>6</td>\n",
       "      <td>15</td>\n",
       "      <td>19</td>\n",
       "      <td>47210</td>\n",
       "      <td>1</td>\n",
       "      <td>1</td>\n",
       "      <td>...</td>\n",
       "      <td>Non-frequent customer</td>\n",
       "      <td>Female</td>\n",
       "      <td>Tennessee</td>\n",
       "      <td>22</td>\n",
       "      <td>9/12/2017</td>\n",
       "      <td>3</td>\n",
       "      <td>married</td>\n",
       "      <td>46151</td>\n",
       "      <td>South</td>\n",
       "      <td>0</td>\n",
       "    </tr>\n",
       "    <tr>\n",
       "      <th>32404858</th>\n",
       "      <td>2922475</td>\n",
       "      <td>66343</td>\n",
       "      <td>prior</td>\n",
       "      <td>4</td>\n",
       "      <td>1</td>\n",
       "      <td>12</td>\n",
       "      <td>30</td>\n",
       "      <td>47210</td>\n",
       "      <td>1</td>\n",
       "      <td>1</td>\n",
       "      <td>...</td>\n",
       "      <td>Non-frequent customer</td>\n",
       "      <td>Female</td>\n",
       "      <td>Tennessee</td>\n",
       "      <td>22</td>\n",
       "      <td>9/12/2017</td>\n",
       "      <td>3</td>\n",
       "      <td>married</td>\n",
       "      <td>46151</td>\n",
       "      <td>South</td>\n",
       "      <td>0</td>\n",
       "    </tr>\n",
       "  </tbody>\n",
       "</table>\n",
       "<p>1440295 rows × 35 columns</p>\n",
       "</div>"
      ],
      "text/plain": [
       "          order_id  user_id eval_set  order_number  order_dow  \\\n",
       "1510        520620      120    prior             1          3   \n",
       "1511       3273029      120    prior             3          2   \n",
       "1512        520620      120    prior             1          3   \n",
       "1513       3273029      120    prior             3          2   \n",
       "1514        520620      120    prior             1          3   \n",
       "...            ...      ...      ...           ...        ...   \n",
       "32404828   1947537   166751    prior             3          4   \n",
       "32404855    484769    66343    prior             1          6   \n",
       "32404856   1561557    66343    prior             2          1   \n",
       "32404857    276317    66343    prior             3          6   \n",
       "32404858   2922475    66343    prior             4          1   \n",
       "\n",
       "          order_hour_of_day  days_since_prior_order  product_id  \\\n",
       "1510                     11                       0         196   \n",
       "1511                      8                      19         196   \n",
       "1512                     11                       0       46149   \n",
       "1513                      8                      19       46149   \n",
       "1514                     11                       0       26348   \n",
       "...                     ...                     ...         ...   \n",
       "32404828                  7                       0       49001   \n",
       "32404855                 11                       0       47210   \n",
       "32404856                 11                      30       47210   \n",
       "32404857                 15                      19       47210   \n",
       "32404858                 12                      30       47210   \n",
       "\n",
       "          add_to_cart_order  reordered  ...         frequency_flag  gender  \\\n",
       "1510                      2          0  ...       Regular customer  Female   \n",
       "1511                      2          1  ...       Regular customer  Female   \n",
       "1512                      1          0  ...       Regular customer  Female   \n",
       "1513                      1          1  ...       Regular customer  Female   \n",
       "1514                      3          0  ...       Regular customer  Female   \n",
       "...                     ...        ...  ...                    ...     ...   \n",
       "32404828                  1          1  ...      Frequent customer  Female   \n",
       "32404855                  1          0  ...  Non-frequent customer  Female   \n",
       "32404856                  1          1  ...  Non-frequent customer  Female   \n",
       "32404857                  1          1  ...  Non-frequent customer  Female   \n",
       "32404858                  1          1  ...  Non-frequent customer  Female   \n",
       "\n",
       "              state  age  date_joined no_of_dependants marital_status income  \\\n",
       "1510       Kentucky   54     3/2/2017                2        married  99219   \n",
       "1511       Kentucky   54     3/2/2017                2        married  99219   \n",
       "1512       Kentucky   54     3/2/2017                2        married  99219   \n",
       "1513       Kentucky   54     3/2/2017                2        married  99219   \n",
       "1514       Kentucky   54     3/2/2017                2        married  99219   \n",
       "...             ...  ...          ...              ...            ...    ...   \n",
       "32404828     Oregon   38    8/17/2018                1        married  41766   \n",
       "32404855  Tennessee   22    9/12/2017                3        married  46151   \n",
       "32404856  Tennessee   22    9/12/2017                3        married  46151   \n",
       "32404857  Tennessee   22    9/12/2017                3        married  46151   \n",
       "32404858  Tennessee   22    9/12/2017                3        married  46151   \n",
       "\n",
       "         region activity  \n",
       "1510      South        0  \n",
       "1511      South        0  \n",
       "1512      South        0  \n",
       "1513      South        0  \n",
       "1514      South        0  \n",
       "...         ...      ...  \n",
       "32404828   West        0  \n",
       "32404855  South        0  \n",
       "32404856  South        0  \n",
       "32404857  South        0  \n",
       "32404858  South        0  \n",
       "\n",
       "[1440295 rows x 35 columns]"
      ]
     },
     "execution_count": 19,
     "metadata": {},
     "output_type": "execute_result"
    }
   ],
   "source": [
    "low_activity"
   ]
  },
  {
   "cell_type": "code",
   "execution_count": 20,
   "id": "b07ccbf8",
   "metadata": {},
   "outputs": [],
   "source": [
    "low_activity.to_pickle(os.path.join(path,'02 Data','Prepared Data','low_activity_customers.pkl'))"
   ]
  },
  {
   "cell_type": "code",
   "execution_count": 21,
   "id": "dbe3e58d",
   "metadata": {},
   "outputs": [],
   "source": [
    "df_active=complete_data[complete_data['activity']=='1']"
   ]
  },
  {
   "cell_type": "code",
   "execution_count": 22,
   "id": "8df6046a",
   "metadata": {},
   "outputs": [
    {
     "data": {
      "text/html": [
       "<div>\n",
       "<style scoped>\n",
       "    .dataframe tbody tr th:only-of-type {\n",
       "        vertical-align: middle;\n",
       "    }\n",
       "\n",
       "    .dataframe tbody tr th {\n",
       "        vertical-align: top;\n",
       "    }\n",
       "\n",
       "    .dataframe thead th {\n",
       "        text-align: right;\n",
       "    }\n",
       "</style>\n",
       "<table border=\"1\" class=\"dataframe\">\n",
       "  <thead>\n",
       "    <tr style=\"text-align: right;\">\n",
       "      <th></th>\n",
       "      <th>order_id</th>\n",
       "      <th>user_id</th>\n",
       "      <th>eval_set</th>\n",
       "      <th>order_number</th>\n",
       "      <th>order_dow</th>\n",
       "      <th>order_hour_of_day</th>\n",
       "      <th>days_since_prior_order</th>\n",
       "      <th>product_id</th>\n",
       "      <th>add_to_cart_order</th>\n",
       "      <th>reordered</th>\n",
       "      <th>...</th>\n",
       "      <th>frequency_flag</th>\n",
       "      <th>gender</th>\n",
       "      <th>state</th>\n",
       "      <th>age</th>\n",
       "      <th>date_joined</th>\n",
       "      <th>no_of_dependants</th>\n",
       "      <th>marital_status</th>\n",
       "      <th>income</th>\n",
       "      <th>region</th>\n",
       "      <th>activity</th>\n",
       "    </tr>\n",
       "  </thead>\n",
       "  <tbody>\n",
       "    <tr>\n",
       "      <th>0</th>\n",
       "      <td>2539329</td>\n",
       "      <td>1</td>\n",
       "      <td>prior</td>\n",
       "      <td>1</td>\n",
       "      <td>2</td>\n",
       "      <td>8</td>\n",
       "      <td>0</td>\n",
       "      <td>196</td>\n",
       "      <td>1</td>\n",
       "      <td>0</td>\n",
       "      <td>...</td>\n",
       "      <td>Regular customer</td>\n",
       "      <td>Female</td>\n",
       "      <td>Alabama</td>\n",
       "      <td>31</td>\n",
       "      <td>2/17/2019</td>\n",
       "      <td>3</td>\n",
       "      <td>married</td>\n",
       "      <td>40423</td>\n",
       "      <td>South</td>\n",
       "      <td>1</td>\n",
       "    </tr>\n",
       "    <tr>\n",
       "      <th>1</th>\n",
       "      <td>2398795</td>\n",
       "      <td>1</td>\n",
       "      <td>prior</td>\n",
       "      <td>2</td>\n",
       "      <td>3</td>\n",
       "      <td>7</td>\n",
       "      <td>15</td>\n",
       "      <td>196</td>\n",
       "      <td>1</td>\n",
       "      <td>1</td>\n",
       "      <td>...</td>\n",
       "      <td>Regular customer</td>\n",
       "      <td>Female</td>\n",
       "      <td>Alabama</td>\n",
       "      <td>31</td>\n",
       "      <td>2/17/2019</td>\n",
       "      <td>3</td>\n",
       "      <td>married</td>\n",
       "      <td>40423</td>\n",
       "      <td>South</td>\n",
       "      <td>1</td>\n",
       "    </tr>\n",
       "    <tr>\n",
       "      <th>2</th>\n",
       "      <td>473747</td>\n",
       "      <td>1</td>\n",
       "      <td>prior</td>\n",
       "      <td>3</td>\n",
       "      <td>3</td>\n",
       "      <td>12</td>\n",
       "      <td>21</td>\n",
       "      <td>196</td>\n",
       "      <td>1</td>\n",
       "      <td>1</td>\n",
       "      <td>...</td>\n",
       "      <td>Regular customer</td>\n",
       "      <td>Female</td>\n",
       "      <td>Alabama</td>\n",
       "      <td>31</td>\n",
       "      <td>2/17/2019</td>\n",
       "      <td>3</td>\n",
       "      <td>married</td>\n",
       "      <td>40423</td>\n",
       "      <td>South</td>\n",
       "      <td>1</td>\n",
       "    </tr>\n",
       "    <tr>\n",
       "      <th>3</th>\n",
       "      <td>2254736</td>\n",
       "      <td>1</td>\n",
       "      <td>prior</td>\n",
       "      <td>4</td>\n",
       "      <td>4</td>\n",
       "      <td>7</td>\n",
       "      <td>29</td>\n",
       "      <td>196</td>\n",
       "      <td>1</td>\n",
       "      <td>1</td>\n",
       "      <td>...</td>\n",
       "      <td>Regular customer</td>\n",
       "      <td>Female</td>\n",
       "      <td>Alabama</td>\n",
       "      <td>31</td>\n",
       "      <td>2/17/2019</td>\n",
       "      <td>3</td>\n",
       "      <td>married</td>\n",
       "      <td>40423</td>\n",
       "      <td>South</td>\n",
       "      <td>1</td>\n",
       "    </tr>\n",
       "    <tr>\n",
       "      <th>4</th>\n",
       "      <td>431534</td>\n",
       "      <td>1</td>\n",
       "      <td>prior</td>\n",
       "      <td>5</td>\n",
       "      <td>4</td>\n",
       "      <td>15</td>\n",
       "      <td>28</td>\n",
       "      <td>196</td>\n",
       "      <td>1</td>\n",
       "      <td>1</td>\n",
       "      <td>...</td>\n",
       "      <td>Regular customer</td>\n",
       "      <td>Female</td>\n",
       "      <td>Alabama</td>\n",
       "      <td>31</td>\n",
       "      <td>2/17/2019</td>\n",
       "      <td>3</td>\n",
       "      <td>married</td>\n",
       "      <td>40423</td>\n",
       "      <td>South</td>\n",
       "      <td>1</td>\n",
       "    </tr>\n",
       "    <tr>\n",
       "      <th>...</th>\n",
       "      <td>...</td>\n",
       "      <td>...</td>\n",
       "      <td>...</td>\n",
       "      <td>...</td>\n",
       "      <td>...</td>\n",
       "      <td>...</td>\n",
       "      <td>...</td>\n",
       "      <td>...</td>\n",
       "      <td>...</td>\n",
       "      <td>...</td>\n",
       "      <td>...</td>\n",
       "      <td>...</td>\n",
       "      <td>...</td>\n",
       "      <td>...</td>\n",
       "      <td>...</td>\n",
       "      <td>...</td>\n",
       "      <td>...</td>\n",
       "      <td>...</td>\n",
       "      <td>...</td>\n",
       "      <td>...</td>\n",
       "      <td>...</td>\n",
       "    </tr>\n",
       "    <tr>\n",
       "      <th>32404850</th>\n",
       "      <td>3308056</td>\n",
       "      <td>106143</td>\n",
       "      <td>prior</td>\n",
       "      <td>22</td>\n",
       "      <td>4</td>\n",
       "      <td>20</td>\n",
       "      <td>10</td>\n",
       "      <td>19675</td>\n",
       "      <td>1</td>\n",
       "      <td>1</td>\n",
       "      <td>...</td>\n",
       "      <td>Frequent customer</td>\n",
       "      <td>Male</td>\n",
       "      <td>Hawaii</td>\n",
       "      <td>25</td>\n",
       "      <td>5/26/2017</td>\n",
       "      <td>0</td>\n",
       "      <td>single</td>\n",
       "      <td>53755</td>\n",
       "      <td>West</td>\n",
       "      <td>1</td>\n",
       "    </tr>\n",
       "    <tr>\n",
       "      <th>32404851</th>\n",
       "      <td>2988973</td>\n",
       "      <td>106143</td>\n",
       "      <td>prior</td>\n",
       "      <td>23</td>\n",
       "      <td>2</td>\n",
       "      <td>22</td>\n",
       "      <td>5</td>\n",
       "      <td>19675</td>\n",
       "      <td>1</td>\n",
       "      <td>1</td>\n",
       "      <td>...</td>\n",
       "      <td>Frequent customer</td>\n",
       "      <td>Male</td>\n",
       "      <td>Hawaii</td>\n",
       "      <td>25</td>\n",
       "      <td>5/26/2017</td>\n",
       "      <td>0</td>\n",
       "      <td>single</td>\n",
       "      <td>53755</td>\n",
       "      <td>West</td>\n",
       "      <td>1</td>\n",
       "    </tr>\n",
       "    <tr>\n",
       "      <th>32404852</th>\n",
       "      <td>930</td>\n",
       "      <td>106143</td>\n",
       "      <td>prior</td>\n",
       "      <td>24</td>\n",
       "      <td>6</td>\n",
       "      <td>12</td>\n",
       "      <td>4</td>\n",
       "      <td>19675</td>\n",
       "      <td>1</td>\n",
       "      <td>1</td>\n",
       "      <td>...</td>\n",
       "      <td>Frequent customer</td>\n",
       "      <td>Male</td>\n",
       "      <td>Hawaii</td>\n",
       "      <td>25</td>\n",
       "      <td>5/26/2017</td>\n",
       "      <td>0</td>\n",
       "      <td>single</td>\n",
       "      <td>53755</td>\n",
       "      <td>West</td>\n",
       "      <td>1</td>\n",
       "    </tr>\n",
       "    <tr>\n",
       "      <th>32404853</th>\n",
       "      <td>467253</td>\n",
       "      <td>106143</td>\n",
       "      <td>prior</td>\n",
       "      <td>25</td>\n",
       "      <td>6</td>\n",
       "      <td>16</td>\n",
       "      <td>7</td>\n",
       "      <td>19675</td>\n",
       "      <td>1</td>\n",
       "      <td>1</td>\n",
       "      <td>...</td>\n",
       "      <td>Frequent customer</td>\n",
       "      <td>Male</td>\n",
       "      <td>Hawaii</td>\n",
       "      <td>25</td>\n",
       "      <td>5/26/2017</td>\n",
       "      <td>0</td>\n",
       "      <td>single</td>\n",
       "      <td>53755</td>\n",
       "      <td>West</td>\n",
       "      <td>1</td>\n",
       "    </tr>\n",
       "    <tr>\n",
       "      <th>32404854</th>\n",
       "      <td>156685</td>\n",
       "      <td>106143</td>\n",
       "      <td>prior</td>\n",
       "      <td>26</td>\n",
       "      <td>4</td>\n",
       "      <td>23</td>\n",
       "      <td>5</td>\n",
       "      <td>19675</td>\n",
       "      <td>1</td>\n",
       "      <td>1</td>\n",
       "      <td>...</td>\n",
       "      <td>Frequent customer</td>\n",
       "      <td>Male</td>\n",
       "      <td>Hawaii</td>\n",
       "      <td>25</td>\n",
       "      <td>5/26/2017</td>\n",
       "      <td>0</td>\n",
       "      <td>single</td>\n",
       "      <td>53755</td>\n",
       "      <td>West</td>\n",
       "      <td>1</td>\n",
       "    </tr>\n",
       "  </tbody>\n",
       "</table>\n",
       "<p>30964564 rows × 35 columns</p>\n",
       "</div>"
      ],
      "text/plain": [
       "          order_id  user_id eval_set  order_number  order_dow  \\\n",
       "0          2539329        1    prior             1          2   \n",
       "1          2398795        1    prior             2          3   \n",
       "2           473747        1    prior             3          3   \n",
       "3          2254736        1    prior             4          4   \n",
       "4           431534        1    prior             5          4   \n",
       "...            ...      ...      ...           ...        ...   \n",
       "32404850   3308056   106143    prior            22          4   \n",
       "32404851   2988973   106143    prior            23          2   \n",
       "32404852       930   106143    prior            24          6   \n",
       "32404853    467253   106143    prior            25          6   \n",
       "32404854    156685   106143    prior            26          4   \n",
       "\n",
       "          order_hour_of_day  days_since_prior_order  product_id  \\\n",
       "0                         8                       0         196   \n",
       "1                         7                      15         196   \n",
       "2                        12                      21         196   \n",
       "3                         7                      29         196   \n",
       "4                        15                      28         196   \n",
       "...                     ...                     ...         ...   \n",
       "32404850                 20                      10       19675   \n",
       "32404851                 22                       5       19675   \n",
       "32404852                 12                       4       19675   \n",
       "32404853                 16                       7       19675   \n",
       "32404854                 23                       5       19675   \n",
       "\n",
       "          add_to_cart_order  reordered  ...     frequency_flag  gender  \\\n",
       "0                         1          0  ...   Regular customer  Female   \n",
       "1                         1          1  ...   Regular customer  Female   \n",
       "2                         1          1  ...   Regular customer  Female   \n",
       "3                         1          1  ...   Regular customer  Female   \n",
       "4                         1          1  ...   Regular customer  Female   \n",
       "...                     ...        ...  ...                ...     ...   \n",
       "32404850                  1          1  ...  Frequent customer    Male   \n",
       "32404851                  1          1  ...  Frequent customer    Male   \n",
       "32404852                  1          1  ...  Frequent customer    Male   \n",
       "32404853                  1          1  ...  Frequent customer    Male   \n",
       "32404854                  1          1  ...  Frequent customer    Male   \n",
       "\n",
       "            state  age  date_joined no_of_dependants marital_status income  \\\n",
       "0         Alabama   31    2/17/2019                3        married  40423   \n",
       "1         Alabama   31    2/17/2019                3        married  40423   \n",
       "2         Alabama   31    2/17/2019                3        married  40423   \n",
       "3         Alabama   31    2/17/2019                3        married  40423   \n",
       "4         Alabama   31    2/17/2019                3        married  40423   \n",
       "...           ...  ...          ...              ...            ...    ...   \n",
       "32404850   Hawaii   25    5/26/2017                0         single  53755   \n",
       "32404851   Hawaii   25    5/26/2017                0         single  53755   \n",
       "32404852   Hawaii   25    5/26/2017                0         single  53755   \n",
       "32404853   Hawaii   25    5/26/2017                0         single  53755   \n",
       "32404854   Hawaii   25    5/26/2017                0         single  53755   \n",
       "\n",
       "         region activity  \n",
       "0         South        1  \n",
       "1         South        1  \n",
       "2         South        1  \n",
       "3         South        1  \n",
       "4         South        1  \n",
       "...         ...      ...  \n",
       "32404850   West        1  \n",
       "32404851   West        1  \n",
       "32404852   West        1  \n",
       "32404853   West        1  \n",
       "32404854   West        1  \n",
       "\n",
       "[30964564 rows x 35 columns]"
      ]
     },
     "execution_count": 22,
     "metadata": {},
     "output_type": "execute_result"
    }
   ],
   "source": [
    "df_active"
   ]
  },
  {
   "cell_type": "markdown",
   "id": "c8601135",
   "metadata": {},
   "source": [
    "# 7.Creating Customer Profiles\n"
   ]
  },
  {
   "cell_type": "markdown",
   "id": "f682479a",
   "metadata": {},
   "source": [
    " Create a profiling variable based on age, income, certain goods in the “department_id” column, and number of dependents. You might also use the “orders_day_of_the_week” and “order_hour_of_day” columns if you can think of a way they would impact customer profiles. (Hint: As an example, try thinking of what characteristics would lead you to the profile “Single adult” or “Young parent.”)"
   ]
  },
  {
   "cell_type": "markdown",
   "id": "154a8249",
   "metadata": {},
   "source": [
    "a) Age Profile"
   ]
  },
  {
   "cell_type": "code",
   "execution_count": 23,
   "id": "bef5370c",
   "metadata": {},
   "outputs": [
    {
     "name": "stderr",
     "output_type": "stream",
     "text": [
      "C:\\Users\\kamil\\AppData\\Local\\Temp\\ipykernel_10076\\2726243014.py:2: SettingWithCopyWarning: \n",
      "A value is trying to be set on a copy of a slice from a DataFrame.\n",
      "Try using .loc[row_indexer,col_indexer] = value instead\n",
      "\n",
      "See the caveats in the documentation: https://pandas.pydata.org/pandas-docs/stable/user_guide/indexing.html#returning-a-view-versus-a-copy\n",
      "  df_active.loc[df_active['age']<=25, 'age_group']='Young Adult'\n"
     ]
    },
    {
     "data": {
      "text/plain": [
       "Adult          18904502\n",
       "Senior          8195544\n",
       "Young Adult     3864518\n",
       "Name: age_group, dtype: int64"
      ]
     },
     "execution_count": 23,
     "metadata": {},
     "output_type": "execute_result"
    }
   ],
   "source": [
    "#Creating different age flag: young adult:18-25 years; adult: 26-64 years; seniors :65+ years;\n",
    "df_active.loc[df_active['age']<=25, 'age_group']='Young Adult'\n",
    "df_active.loc[(df_active['age']<65)&(df_active['age']>25), 'age_group']='Adult'\n",
    "df_active.loc[df_active['age']>=65, 'age_group']='Senior'\n",
    "df_active['age_group'].value_counts()"
   ]
  },
  {
   "cell_type": "code",
   "execution_count": 24,
   "id": "f28a9601",
   "metadata": {},
   "outputs": [
    {
     "data": {
      "text/html": [
       "<div>\n",
       "<style scoped>\n",
       "    .dataframe tbody tr th:only-of-type {\n",
       "        vertical-align: middle;\n",
       "    }\n",
       "\n",
       "    .dataframe tbody tr th {\n",
       "        vertical-align: top;\n",
       "    }\n",
       "\n",
       "    .dataframe thead tr th {\n",
       "        text-align: left;\n",
       "    }\n",
       "\n",
       "    .dataframe thead tr:last-of-type th {\n",
       "        text-align: right;\n",
       "    }\n",
       "</style>\n",
       "<table border=\"1\" class=\"dataframe\">\n",
       "  <thead>\n",
       "    <tr>\n",
       "      <th></th>\n",
       "      <th colspan=\"3\" halign=\"left\">prices</th>\n",
       "    </tr>\n",
       "    <tr>\n",
       "      <th></th>\n",
       "      <th>mean</th>\n",
       "      <th>min</th>\n",
       "      <th>max</th>\n",
       "    </tr>\n",
       "    <tr>\n",
       "      <th>age_group</th>\n",
       "      <th></th>\n",
       "      <th></th>\n",
       "      <th></th>\n",
       "    </tr>\n",
       "  </thead>\n",
       "  <tbody>\n",
       "    <tr>\n",
       "      <th>Adult</th>\n",
       "      <td>11.953327</td>\n",
       "      <td>1.0</td>\n",
       "      <td>99999.0</td>\n",
       "    </tr>\n",
       "    <tr>\n",
       "      <th>Senior</th>\n",
       "      <td>11.757768</td>\n",
       "      <td>1.0</td>\n",
       "      <td>99999.0</td>\n",
       "    </tr>\n",
       "    <tr>\n",
       "      <th>Young Adult</th>\n",
       "      <td>12.209359</td>\n",
       "      <td>1.0</td>\n",
       "      <td>99999.0</td>\n",
       "    </tr>\n",
       "  </tbody>\n",
       "</table>\n",
       "</div>"
      ],
      "text/plain": [
       "                prices              \n",
       "                  mean  min      max\n",
       "age_group                           \n",
       "Adult        11.953327  1.0  99999.0\n",
       "Senior       11.757768  1.0  99999.0\n",
       "Young Adult  12.209359  1.0  99999.0"
      ]
     },
     "execution_count": 24,
     "metadata": {},
     "output_type": "execute_result"
    }
   ],
   "source": [
    "#aggregating for age group expenditure\n",
    "df_active.groupby('age_group').agg({'prices': ['mean', 'min', 'max']})"
   ]
  },
  {
   "cell_type": "code",
   "execution_count": 25,
   "id": "894321b5",
   "metadata": {},
   "outputs": [
    {
     "data": {
      "text/html": [
       "<div>\n",
       "<style scoped>\n",
       "    .dataframe tbody tr th:only-of-type {\n",
       "        vertical-align: middle;\n",
       "    }\n",
       "\n",
       "    .dataframe tbody tr th {\n",
       "        vertical-align: top;\n",
       "    }\n",
       "\n",
       "    .dataframe thead tr th {\n",
       "        text-align: left;\n",
       "    }\n",
       "\n",
       "    .dataframe thead tr:last-of-type th {\n",
       "        text-align: right;\n",
       "    }\n",
       "</style>\n",
       "<table border=\"1\" class=\"dataframe\">\n",
       "  <thead>\n",
       "    <tr>\n",
       "      <th></th>\n",
       "      <th colspan=\"3\" halign=\"left\">median_days_since_prior_order</th>\n",
       "    </tr>\n",
       "    <tr>\n",
       "      <th></th>\n",
       "      <th>mean</th>\n",
       "      <th>min</th>\n",
       "      <th>max</th>\n",
       "    </tr>\n",
       "    <tr>\n",
       "      <th>age_group</th>\n",
       "      <th></th>\n",
       "      <th></th>\n",
       "      <th></th>\n",
       "    </tr>\n",
       "  </thead>\n",
       "  <tbody>\n",
       "    <tr>\n",
       "      <th>Adult</th>\n",
       "      <td>9.355929</td>\n",
       "      <td>0.0</td>\n",
       "      <td>30.0</td>\n",
       "    </tr>\n",
       "    <tr>\n",
       "      <th>Senior</th>\n",
       "      <td>9.306572</td>\n",
       "      <td>0.0</td>\n",
       "      <td>30.0</td>\n",
       "    </tr>\n",
       "    <tr>\n",
       "      <th>Young Adult</th>\n",
       "      <td>9.315055</td>\n",
       "      <td>0.0</td>\n",
       "      <td>30.0</td>\n",
       "    </tr>\n",
       "  </tbody>\n",
       "</table>\n",
       "</div>"
      ],
      "text/plain": [
       "            median_days_since_prior_order           \n",
       "                                     mean  min   max\n",
       "age_group                                           \n",
       "Adult                            9.355929  0.0  30.0\n",
       "Senior                           9.306572  0.0  30.0\n",
       "Young Adult                      9.315055  0.0  30.0"
      ]
     },
     "execution_count": 25,
     "metadata": {},
     "output_type": "execute_result"
    }
   ],
   "source": [
    "#aggregating for age group order frequency\n",
    "df_active.groupby('age_group').agg({'median_days_since_prior_order': ['mean', 'min', 'max']})"
   ]
  },
  {
   "cell_type": "markdown",
   "id": "42eadd54",
   "metadata": {},
   "source": [
    "b) Income profile"
   ]
  },
  {
   "cell_type": "code",
   "execution_count": 26,
   "id": "9444b19c",
   "metadata": {},
   "outputs": [
    {
     "name": "stderr",
     "output_type": "stream",
     "text": [
      "C:\\Users\\kamil\\AppData\\Local\\Temp\\ipykernel_10076\\4008120810.py:1: SettingWithCopyWarning: \n",
      "A value is trying to be set on a copy of a slice from a DataFrame.\n",
      "Try using .loc[row_indexer,col_indexer] = value instead\n",
      "\n",
      "See the caveats in the documentation: https://pandas.pydata.org/pandas-docs/stable/user_guide/indexing.html#returning-a-view-versus-a-copy\n",
      "  df_active.loc[df_active['income']<40000, 'income_group']='low income'\n"
     ]
    },
    {
     "data": {
      "text/plain": [
       "middle income    25457264\n",
       "high income       3894534\n",
       "low income        1612025\n",
       "NaN                   741\n",
       "Name: income_group, dtype: int64"
      ]
     },
     "execution_count": 26,
     "metadata": {},
     "output_type": "execute_result"
    }
   ],
   "source": [
    "df_active.loc[df_active['income']<40000, 'income_group']='low income'\n",
    "df_active.loc[(df_active['income']>=40000)&(df_active['income']<150000), 'income_group']='middle income'\n",
    "df_active.loc[df_active['income']>150000, 'income_group']='high income'\n",
    "df_active['income_group'].value_counts(dropna=False)  "
   ]
  },
  {
   "cell_type": "code",
   "execution_count": 27,
   "id": "65b9860a",
   "metadata": {},
   "outputs": [
    {
     "data": {
      "text/html": [
       "<div>\n",
       "<style scoped>\n",
       "    .dataframe tbody tr th:only-of-type {\n",
       "        vertical-align: middle;\n",
       "    }\n",
       "\n",
       "    .dataframe tbody tr th {\n",
       "        vertical-align: top;\n",
       "    }\n",
       "\n",
       "    .dataframe thead tr th {\n",
       "        text-align: left;\n",
       "    }\n",
       "\n",
       "    .dataframe thead tr:last-of-type th {\n",
       "        text-align: right;\n",
       "    }\n",
       "</style>\n",
       "<table border=\"1\" class=\"dataframe\">\n",
       "  <thead>\n",
       "    <tr>\n",
       "      <th></th>\n",
       "      <th colspan=\"3\" halign=\"left\">prices</th>\n",
       "    </tr>\n",
       "    <tr>\n",
       "      <th></th>\n",
       "      <th>mean</th>\n",
       "      <th>min</th>\n",
       "      <th>max</th>\n",
       "    </tr>\n",
       "    <tr>\n",
       "      <th>income_group</th>\n",
       "      <th></th>\n",
       "      <th></th>\n",
       "      <th></th>\n",
       "    </tr>\n",
       "  </thead>\n",
       "  <tbody>\n",
       "    <tr>\n",
       "      <th>high income</th>\n",
       "      <td>32.620080</td>\n",
       "      <td>1.0</td>\n",
       "      <td>99999.0</td>\n",
       "    </tr>\n",
       "    <tr>\n",
       "      <th>low income</th>\n",
       "      <td>6.502895</td>\n",
       "      <td>1.0</td>\n",
       "      <td>25.0</td>\n",
       "    </tr>\n",
       "    <tr>\n",
       "      <th>middle income</th>\n",
       "      <td>9.112838</td>\n",
       "      <td>1.0</td>\n",
       "      <td>99999.0</td>\n",
       "    </tr>\n",
       "  </tbody>\n",
       "</table>\n",
       "</div>"
      ],
      "text/plain": [
       "                  prices              \n",
       "                    mean  min      max\n",
       "income_group                          \n",
       "high income    32.620080  1.0  99999.0\n",
       "low income      6.502895  1.0     25.0\n",
       "middle income   9.112838  1.0  99999.0"
      ]
     },
     "execution_count": 27,
     "metadata": {},
     "output_type": "execute_result"
    }
   ],
   "source": [
    "df_active.groupby('income_group').agg({'prices': ['mean', 'min', 'max']})"
   ]
  },
  {
   "cell_type": "code",
   "execution_count": 28,
   "id": "dc1a359b",
   "metadata": {},
   "outputs": [
    {
     "data": {
      "text/html": [
       "<div>\n",
       "<style scoped>\n",
       "    .dataframe tbody tr th:only-of-type {\n",
       "        vertical-align: middle;\n",
       "    }\n",
       "\n",
       "    .dataframe tbody tr th {\n",
       "        vertical-align: top;\n",
       "    }\n",
       "\n",
       "    .dataframe thead tr th {\n",
       "        text-align: left;\n",
       "    }\n",
       "\n",
       "    .dataframe thead tr:last-of-type th {\n",
       "        text-align: right;\n",
       "    }\n",
       "</style>\n",
       "<table border=\"1\" class=\"dataframe\">\n",
       "  <thead>\n",
       "    <tr>\n",
       "      <th></th>\n",
       "      <th colspan=\"3\" halign=\"left\">median_days_since_prior_order</th>\n",
       "    </tr>\n",
       "    <tr>\n",
       "      <th></th>\n",
       "      <th>mean</th>\n",
       "      <th>min</th>\n",
       "      <th>max</th>\n",
       "    </tr>\n",
       "    <tr>\n",
       "      <th>income_group</th>\n",
       "      <th></th>\n",
       "      <th></th>\n",
       "      <th></th>\n",
       "    </tr>\n",
       "  </thead>\n",
       "  <tbody>\n",
       "    <tr>\n",
       "      <th>high income</th>\n",
       "      <td>9.177664</td>\n",
       "      <td>0.0</td>\n",
       "      <td>30.0</td>\n",
       "    </tr>\n",
       "    <tr>\n",
       "      <th>low income</th>\n",
       "      <td>10.017196</td>\n",
       "      <td>0.0</td>\n",
       "      <td>30.0</td>\n",
       "    </tr>\n",
       "    <tr>\n",
       "      <th>middle income</th>\n",
       "      <td>9.319271</td>\n",
       "      <td>0.0</td>\n",
       "      <td>30.0</td>\n",
       "    </tr>\n",
       "  </tbody>\n",
       "</table>\n",
       "</div>"
      ],
      "text/plain": [
       "              median_days_since_prior_order           \n",
       "                                       mean  min   max\n",
       "income_group                                          \n",
       "high income                        9.177664  0.0  30.0\n",
       "low income                        10.017196  0.0  30.0\n",
       "middle income                      9.319271  0.0  30.0"
      ]
     },
     "execution_count": 28,
     "metadata": {},
     "output_type": "execute_result"
    }
   ],
   "source": [
    "#aggregating for income bracket order frequency\n",
    "df_active.groupby('income_group').agg({'median_days_since_prior_order': ['mean', 'min', 'max']})"
   ]
  },
  {
   "cell_type": "markdown",
   "id": "c8b75a43",
   "metadata": {},
   "source": [
    "c) Number of Dependents Profile"
   ]
  },
  {
   "cell_type": "code",
   "execution_count": 29,
   "id": "df198b09",
   "metadata": {},
   "outputs": [
    {
     "name": "stderr",
     "output_type": "stream",
     "text": [
      "C:\\Users\\kamil\\AppData\\Local\\Temp\\ipykernel_10076\\2621338105.py:2: SettingWithCopyWarning: \n",
      "A value is trying to be set on a copy of a slice from a DataFrame.\n",
      "Try using .loc[row_indexer,col_indexer] = value instead\n",
      "\n",
      "See the caveats in the documentation: https://pandas.pydata.org/pandas-docs/stable/user_guide/indexing.html#returning-a-view-versus-a-copy\n",
      "  df_active.loc[df_active['no_of_dependants'] >0, 'dependent_group']='has dependents'\n"
     ]
    },
    {
     "data": {
      "text/plain": [
       "has dependents    23224883\n",
       "no dependents      7739681\n",
       "Name: dependent_group, dtype: int64"
      ]
     },
     "execution_count": 29,
     "metadata": {},
     "output_type": "execute_result"
    }
   ],
   "source": [
    "#Creating dependents flag: no_of_dependents>0- has dependents, otherwise - no dependents\n",
    "df_active.loc[df_active['no_of_dependants'] >0, 'dependent_group']='has dependents'\n",
    "df_active.loc[df_active['no_of_dependants'] ==0,'dependent_group']='no dependents'\n",
    "df_active['dependent_group'].value_counts(dropna=False)"
   ]
  },
  {
   "cell_type": "code",
   "execution_count": 30,
   "id": "2f15fb43",
   "metadata": {},
   "outputs": [
    {
     "data": {
      "text/html": [
       "<div>\n",
       "<style scoped>\n",
       "    .dataframe tbody tr th:only-of-type {\n",
       "        vertical-align: middle;\n",
       "    }\n",
       "\n",
       "    .dataframe tbody tr th {\n",
       "        vertical-align: top;\n",
       "    }\n",
       "\n",
       "    .dataframe thead tr th {\n",
       "        text-align: left;\n",
       "    }\n",
       "\n",
       "    .dataframe thead tr:last-of-type th {\n",
       "        text-align: right;\n",
       "    }\n",
       "</style>\n",
       "<table border=\"1\" class=\"dataframe\">\n",
       "  <thead>\n",
       "    <tr>\n",
       "      <th></th>\n",
       "      <th colspan=\"3\" halign=\"left\">prices</th>\n",
       "    </tr>\n",
       "    <tr>\n",
       "      <th></th>\n",
       "      <th>mean</th>\n",
       "      <th>min</th>\n",
       "      <th>max</th>\n",
       "    </tr>\n",
       "    <tr>\n",
       "      <th>dependent_group</th>\n",
       "      <th></th>\n",
       "      <th></th>\n",
       "      <th></th>\n",
       "    </tr>\n",
       "  </thead>\n",
       "  <tbody>\n",
       "    <tr>\n",
       "      <th>has dependents</th>\n",
       "      <td>11.877157</td>\n",
       "      <td>1.0</td>\n",
       "      <td>99999.0</td>\n",
       "    </tr>\n",
       "    <tr>\n",
       "      <th>no dependents</th>\n",
       "      <td>12.102657</td>\n",
       "      <td>1.0</td>\n",
       "      <td>99999.0</td>\n",
       "    </tr>\n",
       "  </tbody>\n",
       "</table>\n",
       "</div>"
      ],
      "text/plain": [
       "                    prices              \n",
       "                      mean  min      max\n",
       "dependent_group                         \n",
       "has dependents   11.877157  1.0  99999.0\n",
       "no dependents    12.102657  1.0  99999.0"
      ]
     },
     "execution_count": 30,
     "metadata": {},
     "output_type": "execute_result"
    }
   ],
   "source": [
    "# aggregating for dependents bracket expenditure\n",
    "df_active.groupby('dependent_group').agg({'prices': ['mean', 'min', 'max']})"
   ]
  },
  {
   "cell_type": "code",
   "execution_count": 31,
   "id": "0db2f0e8",
   "metadata": {},
   "outputs": [
    {
     "data": {
      "text/html": [
       "<div>\n",
       "<style scoped>\n",
       "    .dataframe tbody tr th:only-of-type {\n",
       "        vertical-align: middle;\n",
       "    }\n",
       "\n",
       "    .dataframe tbody tr th {\n",
       "        vertical-align: top;\n",
       "    }\n",
       "\n",
       "    .dataframe thead tr th {\n",
       "        text-align: left;\n",
       "    }\n",
       "\n",
       "    .dataframe thead tr:last-of-type th {\n",
       "        text-align: right;\n",
       "    }\n",
       "</style>\n",
       "<table border=\"1\" class=\"dataframe\">\n",
       "  <thead>\n",
       "    <tr>\n",
       "      <th></th>\n",
       "      <th colspan=\"3\" halign=\"left\">median_days_since_prior_order</th>\n",
       "    </tr>\n",
       "    <tr>\n",
       "      <th></th>\n",
       "      <th>mean</th>\n",
       "      <th>min</th>\n",
       "      <th>max</th>\n",
       "    </tr>\n",
       "    <tr>\n",
       "      <th>dependent_group</th>\n",
       "      <th></th>\n",
       "      <th></th>\n",
       "      <th></th>\n",
       "    </tr>\n",
       "  </thead>\n",
       "  <tbody>\n",
       "    <tr>\n",
       "      <th>has dependents</th>\n",
       "      <td>9.344964</td>\n",
       "      <td>0.0</td>\n",
       "      <td>30.0</td>\n",
       "    </tr>\n",
       "    <tr>\n",
       "      <th>no dependents</th>\n",
       "      <td>9.316159</td>\n",
       "      <td>0.0</td>\n",
       "      <td>30.0</td>\n",
       "    </tr>\n",
       "  </tbody>\n",
       "</table>\n",
       "</div>"
      ],
      "text/plain": [
       "                median_days_since_prior_order           \n",
       "                                         mean  min   max\n",
       "dependent_group                                         \n",
       "has dependents                       9.344964  0.0  30.0\n",
       "no dependents                        9.316159  0.0  30.0"
      ]
     },
     "execution_count": 31,
     "metadata": {},
     "output_type": "execute_result"
    }
   ],
   "source": [
    "#aggregating for dependents bracket order frequency\n",
    "df_active.groupby('dependent_group').agg({'median_days_since_prior_order': ['mean', 'min', 'max']})"
   ]
  },
  {
   "cell_type": "markdown",
   "id": "7f9f6309",
   "metadata": {},
   "source": [
    "d) Family Status Profile"
   ]
  },
  {
   "cell_type": "code",
   "execution_count": 32,
   "id": "78315b73",
   "metadata": {},
   "outputs": [
    {
     "data": {
      "text/plain": [
       "married                             21743711\n",
       "single                               5094410\n",
       "divorced/widowed                     2645271\n",
       "living with parents and siblings     1481172\n",
       "Name: marital_status, dtype: int64"
      ]
     },
     "execution_count": 32,
     "metadata": {},
     "output_type": "execute_result"
    }
   ],
   "source": [
    "df_active['marital_status'].value_counts()"
   ]
  },
  {
   "cell_type": "code",
   "execution_count": 33,
   "id": "a4b9839e",
   "metadata": {},
   "outputs": [
    {
     "data": {
      "text/html": [
       "<div>\n",
       "<style scoped>\n",
       "    .dataframe tbody tr th:only-of-type {\n",
       "        vertical-align: middle;\n",
       "    }\n",
       "\n",
       "    .dataframe tbody tr th {\n",
       "        vertical-align: top;\n",
       "    }\n",
       "\n",
       "    .dataframe thead tr th {\n",
       "        text-align: left;\n",
       "    }\n",
       "\n",
       "    .dataframe thead tr:last-of-type th {\n",
       "        text-align: right;\n",
       "    }\n",
       "</style>\n",
       "<table border=\"1\" class=\"dataframe\">\n",
       "  <thead>\n",
       "    <tr>\n",
       "      <th></th>\n",
       "      <th colspan=\"3\" halign=\"left\">prices</th>\n",
       "    </tr>\n",
       "    <tr>\n",
       "      <th></th>\n",
       "      <th>mean</th>\n",
       "      <th>min</th>\n",
       "      <th>max</th>\n",
       "    </tr>\n",
       "    <tr>\n",
       "      <th>marital_status</th>\n",
       "      <th></th>\n",
       "      <th></th>\n",
       "      <th></th>\n",
       "    </tr>\n",
       "  </thead>\n",
       "  <tbody>\n",
       "    <tr>\n",
       "      <th>divorced/widowed</th>\n",
       "      <td>11.532741</td>\n",
       "      <td>1.0</td>\n",
       "      <td>99999.0</td>\n",
       "    </tr>\n",
       "    <tr>\n",
       "      <th>living with parents and siblings</th>\n",
       "      <td>10.890167</td>\n",
       "      <td>1.0</td>\n",
       "      <td>99999.0</td>\n",
       "    </tr>\n",
       "    <tr>\n",
       "      <th>married</th>\n",
       "      <td>11.944390</td>\n",
       "      <td>1.0</td>\n",
       "      <td>99999.0</td>\n",
       "    </tr>\n",
       "    <tr>\n",
       "      <th>single</th>\n",
       "      <td>12.398586</td>\n",
       "      <td>1.0</td>\n",
       "      <td>99999.0</td>\n",
       "    </tr>\n",
       "  </tbody>\n",
       "</table>\n",
       "</div>"
      ],
      "text/plain": [
       "                                     prices              \n",
       "                                       mean  min      max\n",
       "marital_status                                           \n",
       "divorced/widowed                  11.532741  1.0  99999.0\n",
       "living with parents and siblings  10.890167  1.0  99999.0\n",
       "married                           11.944390  1.0  99999.0\n",
       "single                            12.398586  1.0  99999.0"
      ]
     },
     "execution_count": 33,
     "metadata": {},
     "output_type": "execute_result"
    }
   ],
   "source": [
    "df_active.groupby('marital_status').agg({'prices': ['mean', 'min', 'max']})\n"
   ]
  },
  {
   "cell_type": "code",
   "execution_count": 34,
   "id": "ca93a7b3",
   "metadata": {},
   "outputs": [
    {
     "data": {
      "text/html": [
       "<div>\n",
       "<style scoped>\n",
       "    .dataframe tbody tr th:only-of-type {\n",
       "        vertical-align: middle;\n",
       "    }\n",
       "\n",
       "    .dataframe tbody tr th {\n",
       "        vertical-align: top;\n",
       "    }\n",
       "\n",
       "    .dataframe thead tr th {\n",
       "        text-align: left;\n",
       "    }\n",
       "\n",
       "    .dataframe thead tr:last-of-type th {\n",
       "        text-align: right;\n",
       "    }\n",
       "</style>\n",
       "<table border=\"1\" class=\"dataframe\">\n",
       "  <thead>\n",
       "    <tr>\n",
       "      <th></th>\n",
       "      <th colspan=\"3\" halign=\"left\">median_days_since_prior_order</th>\n",
       "    </tr>\n",
       "    <tr>\n",
       "      <th></th>\n",
       "      <th>mean</th>\n",
       "      <th>min</th>\n",
       "      <th>max</th>\n",
       "    </tr>\n",
       "    <tr>\n",
       "      <th>marital_status</th>\n",
       "      <th></th>\n",
       "      <th></th>\n",
       "      <th></th>\n",
       "    </tr>\n",
       "  </thead>\n",
       "  <tbody>\n",
       "    <tr>\n",
       "      <th>divorced/widowed</th>\n",
       "      <td>9.262268</td>\n",
       "      <td>0.0</td>\n",
       "      <td>30.0</td>\n",
       "    </tr>\n",
       "    <tr>\n",
       "      <th>living with parents and siblings</th>\n",
       "      <td>9.256878</td>\n",
       "      <td>0.0</td>\n",
       "      <td>30.0</td>\n",
       "    </tr>\n",
       "    <tr>\n",
       "      <th>married</th>\n",
       "      <td>9.350965</td>\n",
       "      <td>0.0</td>\n",
       "      <td>30.0</td>\n",
       "    </tr>\n",
       "    <tr>\n",
       "      <th>single</th>\n",
       "      <td>9.344142</td>\n",
       "      <td>0.0</td>\n",
       "      <td>30.0</td>\n",
       "    </tr>\n",
       "  </tbody>\n",
       "</table>\n",
       "</div>"
      ],
      "text/plain": [
       "                                 median_days_since_prior_order           \n",
       "                                                          mean  min   max\n",
       "marital_status                                                           \n",
       "divorced/widowed                                      9.262268  0.0  30.0\n",
       "living with parents and siblings                      9.256878  0.0  30.0\n",
       "married                                               9.350965  0.0  30.0\n",
       "single                                                9.344142  0.0  30.0"
      ]
     },
     "execution_count": 34,
     "metadata": {},
     "output_type": "execute_result"
    }
   ],
   "source": [
    "# aggregating for family status order frequency\n",
    "df_active.groupby('marital_status').agg({'median_days_since_prior_order': ['mean', 'min', 'max']})"
   ]
  },
  {
   "cell_type": "markdown",
   "id": "c37cb4e4",
   "metadata": {},
   "source": [
    "# 8.Creating Department Profiles"
   ]
  },
  {
   "cell_type": "code",
   "execution_count": 35,
   "id": "119391dc",
   "metadata": {},
   "outputs": [],
   "source": [
    "#importing departments_wrangled.csv\n",
    "df_dept=pd.read_csv(os.path.join(path,'02 Data','Prepared Data','departments_wrangled.csv'))"
   ]
  },
  {
   "cell_type": "code",
   "execution_count": 36,
   "id": "8c78e825",
   "metadata": {},
   "outputs": [
    {
     "data": {
      "text/html": [
       "<div>\n",
       "<style scoped>\n",
       "    .dataframe tbody tr th:only-of-type {\n",
       "        vertical-align: middle;\n",
       "    }\n",
       "\n",
       "    .dataframe tbody tr th {\n",
       "        vertical-align: top;\n",
       "    }\n",
       "\n",
       "    .dataframe thead th {\n",
       "        text-align: right;\n",
       "    }\n",
       "</style>\n",
       "<table border=\"1\" class=\"dataframe\">\n",
       "  <thead>\n",
       "    <tr style=\"text-align: right;\">\n",
       "      <th></th>\n",
       "      <th>Unnamed: 0</th>\n",
       "      <th>department</th>\n",
       "    </tr>\n",
       "  </thead>\n",
       "  <tbody>\n",
       "    <tr>\n",
       "      <th>0</th>\n",
       "      <td>1</td>\n",
       "      <td>frozen</td>\n",
       "    </tr>\n",
       "    <tr>\n",
       "      <th>1</th>\n",
       "      <td>2</td>\n",
       "      <td>other</td>\n",
       "    </tr>\n",
       "    <tr>\n",
       "      <th>2</th>\n",
       "      <td>3</td>\n",
       "      <td>bakery</td>\n",
       "    </tr>\n",
       "    <tr>\n",
       "      <th>3</th>\n",
       "      <td>4</td>\n",
       "      <td>produce</td>\n",
       "    </tr>\n",
       "    <tr>\n",
       "      <th>4</th>\n",
       "      <td>5</td>\n",
       "      <td>alcohol</td>\n",
       "    </tr>\n",
       "    <tr>\n",
       "      <th>5</th>\n",
       "      <td>6</td>\n",
       "      <td>international</td>\n",
       "    </tr>\n",
       "    <tr>\n",
       "      <th>6</th>\n",
       "      <td>7</td>\n",
       "      <td>beverages</td>\n",
       "    </tr>\n",
       "    <tr>\n",
       "      <th>7</th>\n",
       "      <td>8</td>\n",
       "      <td>pets</td>\n",
       "    </tr>\n",
       "    <tr>\n",
       "      <th>8</th>\n",
       "      <td>9</td>\n",
       "      <td>dry goods pasta</td>\n",
       "    </tr>\n",
       "    <tr>\n",
       "      <th>9</th>\n",
       "      <td>10</td>\n",
       "      <td>bulk</td>\n",
       "    </tr>\n",
       "    <tr>\n",
       "      <th>10</th>\n",
       "      <td>11</td>\n",
       "      <td>personal care</td>\n",
       "    </tr>\n",
       "    <tr>\n",
       "      <th>11</th>\n",
       "      <td>12</td>\n",
       "      <td>meat seafood</td>\n",
       "    </tr>\n",
       "    <tr>\n",
       "      <th>12</th>\n",
       "      <td>13</td>\n",
       "      <td>pantry</td>\n",
       "    </tr>\n",
       "    <tr>\n",
       "      <th>13</th>\n",
       "      <td>14</td>\n",
       "      <td>breakfast</td>\n",
       "    </tr>\n",
       "    <tr>\n",
       "      <th>14</th>\n",
       "      <td>15</td>\n",
       "      <td>canned goods</td>\n",
       "    </tr>\n",
       "    <tr>\n",
       "      <th>15</th>\n",
       "      <td>16</td>\n",
       "      <td>dairy eggs</td>\n",
       "    </tr>\n",
       "    <tr>\n",
       "      <th>16</th>\n",
       "      <td>17</td>\n",
       "      <td>household</td>\n",
       "    </tr>\n",
       "    <tr>\n",
       "      <th>17</th>\n",
       "      <td>18</td>\n",
       "      <td>babies</td>\n",
       "    </tr>\n",
       "    <tr>\n",
       "      <th>18</th>\n",
       "      <td>19</td>\n",
       "      <td>snacks</td>\n",
       "    </tr>\n",
       "    <tr>\n",
       "      <th>19</th>\n",
       "      <td>20</td>\n",
       "      <td>deli</td>\n",
       "    </tr>\n",
       "    <tr>\n",
       "      <th>20</th>\n",
       "      <td>21</td>\n",
       "      <td>missing</td>\n",
       "    </tr>\n",
       "  </tbody>\n",
       "</table>\n",
       "</div>"
      ],
      "text/plain": [
       "    Unnamed: 0       department\n",
       "0            1           frozen\n",
       "1            2            other\n",
       "2            3           bakery\n",
       "3            4          produce\n",
       "4            5          alcohol\n",
       "5            6    international\n",
       "6            7        beverages\n",
       "7            8             pets\n",
       "8            9  dry goods pasta\n",
       "9           10             bulk\n",
       "10          11    personal care\n",
       "11          12     meat seafood\n",
       "12          13           pantry\n",
       "13          14        breakfast\n",
       "14          15     canned goods\n",
       "15          16       dairy eggs\n",
       "16          17        household\n",
       "17          18           babies\n",
       "18          19           snacks\n",
       "19          20             deli\n",
       "20          21          missing"
      ]
     },
     "execution_count": 36,
     "metadata": {},
     "output_type": "execute_result"
    }
   ],
   "source": [
    "df_dept"
   ]
  },
  {
   "cell_type": "code",
   "execution_count": 37,
   "id": "06ac21f2",
   "metadata": {},
   "outputs": [],
   "source": [
    "#renaming unnamed column\n",
    "df_dept.rename(columns = {'Unnamed: 0' : 'department_id'}, inplace = True)"
   ]
  },
  {
   "cell_type": "code",
   "execution_count": 38,
   "id": "8dac88d4",
   "metadata": {},
   "outputs": [
    {
     "data": {
      "text/plain": [
       "{1: 'frozen',\n",
       " 2: 'other',\n",
       " 3: 'bakery',\n",
       " 4: 'produce',\n",
       " 5: 'alcohol',\n",
       " 6: 'international',\n",
       " 7: 'beverages',\n",
       " 8: 'pets',\n",
       " 9: 'dry goods pasta',\n",
       " 10: 'bulk',\n",
       " 11: 'personal care',\n",
       " 12: 'meat seafood',\n",
       " 13: 'pantry',\n",
       " 14: 'breakfast',\n",
       " 15: 'canned goods',\n",
       " 16: 'dairy eggs',\n",
       " 17: 'household',\n",
       " 18: 'babies',\n",
       " 19: 'snacks',\n",
       " 20: 'deli',\n",
       " 21: 'missing'}"
      ]
     },
     "execution_count": 38,
     "metadata": {},
     "output_type": "execute_result"
    }
   ],
   "source": [
    "#turning df_dept into data dictionary\n",
    "zipped=zip(df_dept['department_id'], df_dept['department'])\n",
    "data_dict=dict(zipped)\n",
    "data_dict"
   ]
  },
  {
   "cell_type": "code",
   "execution_count": 39,
   "id": "ba1221d7",
   "metadata": {},
   "outputs": [
    {
     "name": "stderr",
     "output_type": "stream",
     "text": [
      "C:\\Users\\kamil\\AppData\\Local\\Temp\\ipykernel_10076\\3270670537.py:2: SettingWithCopyWarning: \n",
      "A value is trying to be set on a copy of a slice from a DataFrame.\n",
      "Try using .loc[row_indexer,col_indexer] = value instead\n",
      "\n",
      "See the caveats in the documentation: https://pandas.pydata.org/pandas-docs/stable/user_guide/indexing.html#returning-a-view-versus-a-copy\n",
      "  df_active['department'] = df_active['department_id'].map(data_dict)\n"
     ]
    },
    {
     "data": {
      "text/html": [
       "<div>\n",
       "<style scoped>\n",
       "    .dataframe tbody tr th:only-of-type {\n",
       "        vertical-align: middle;\n",
       "    }\n",
       "\n",
       "    .dataframe tbody tr th {\n",
       "        vertical-align: top;\n",
       "    }\n",
       "\n",
       "    .dataframe thead th {\n",
       "        text-align: right;\n",
       "    }\n",
       "</style>\n",
       "<table border=\"1\" class=\"dataframe\">\n",
       "  <thead>\n",
       "    <tr style=\"text-align: right;\">\n",
       "      <th></th>\n",
       "      <th>order_id</th>\n",
       "      <th>user_id</th>\n",
       "      <th>eval_set</th>\n",
       "      <th>order_number</th>\n",
       "      <th>order_dow</th>\n",
       "      <th>order_hour_of_day</th>\n",
       "      <th>days_since_prior_order</th>\n",
       "      <th>product_id</th>\n",
       "      <th>add_to_cart_order</th>\n",
       "      <th>reordered</th>\n",
       "      <th>...</th>\n",
       "      <th>date_joined</th>\n",
       "      <th>no_of_dependants</th>\n",
       "      <th>marital_status</th>\n",
       "      <th>income</th>\n",
       "      <th>region</th>\n",
       "      <th>activity</th>\n",
       "      <th>age_group</th>\n",
       "      <th>income_group</th>\n",
       "      <th>dependent_group</th>\n",
       "      <th>department</th>\n",
       "    </tr>\n",
       "  </thead>\n",
       "  <tbody>\n",
       "    <tr>\n",
       "      <th>0</th>\n",
       "      <td>2539329</td>\n",
       "      <td>1</td>\n",
       "      <td>prior</td>\n",
       "      <td>1</td>\n",
       "      <td>2</td>\n",
       "      <td>8</td>\n",
       "      <td>0</td>\n",
       "      <td>196</td>\n",
       "      <td>1</td>\n",
       "      <td>0</td>\n",
       "      <td>...</td>\n",
       "      <td>2/17/2019</td>\n",
       "      <td>3</td>\n",
       "      <td>married</td>\n",
       "      <td>40423</td>\n",
       "      <td>South</td>\n",
       "      <td>1</td>\n",
       "      <td>Adult</td>\n",
       "      <td>middle income</td>\n",
       "      <td>has dependents</td>\n",
       "      <td>beverages</td>\n",
       "    </tr>\n",
       "    <tr>\n",
       "      <th>1</th>\n",
       "      <td>2398795</td>\n",
       "      <td>1</td>\n",
       "      <td>prior</td>\n",
       "      <td>2</td>\n",
       "      <td>3</td>\n",
       "      <td>7</td>\n",
       "      <td>15</td>\n",
       "      <td>196</td>\n",
       "      <td>1</td>\n",
       "      <td>1</td>\n",
       "      <td>...</td>\n",
       "      <td>2/17/2019</td>\n",
       "      <td>3</td>\n",
       "      <td>married</td>\n",
       "      <td>40423</td>\n",
       "      <td>South</td>\n",
       "      <td>1</td>\n",
       "      <td>Adult</td>\n",
       "      <td>middle income</td>\n",
       "      <td>has dependents</td>\n",
       "      <td>beverages</td>\n",
       "    </tr>\n",
       "    <tr>\n",
       "      <th>2</th>\n",
       "      <td>473747</td>\n",
       "      <td>1</td>\n",
       "      <td>prior</td>\n",
       "      <td>3</td>\n",
       "      <td>3</td>\n",
       "      <td>12</td>\n",
       "      <td>21</td>\n",
       "      <td>196</td>\n",
       "      <td>1</td>\n",
       "      <td>1</td>\n",
       "      <td>...</td>\n",
       "      <td>2/17/2019</td>\n",
       "      <td>3</td>\n",
       "      <td>married</td>\n",
       "      <td>40423</td>\n",
       "      <td>South</td>\n",
       "      <td>1</td>\n",
       "      <td>Adult</td>\n",
       "      <td>middle income</td>\n",
       "      <td>has dependents</td>\n",
       "      <td>beverages</td>\n",
       "    </tr>\n",
       "    <tr>\n",
       "      <th>3</th>\n",
       "      <td>2254736</td>\n",
       "      <td>1</td>\n",
       "      <td>prior</td>\n",
       "      <td>4</td>\n",
       "      <td>4</td>\n",
       "      <td>7</td>\n",
       "      <td>29</td>\n",
       "      <td>196</td>\n",
       "      <td>1</td>\n",
       "      <td>1</td>\n",
       "      <td>...</td>\n",
       "      <td>2/17/2019</td>\n",
       "      <td>3</td>\n",
       "      <td>married</td>\n",
       "      <td>40423</td>\n",
       "      <td>South</td>\n",
       "      <td>1</td>\n",
       "      <td>Adult</td>\n",
       "      <td>middle income</td>\n",
       "      <td>has dependents</td>\n",
       "      <td>beverages</td>\n",
       "    </tr>\n",
       "    <tr>\n",
       "      <th>4</th>\n",
       "      <td>431534</td>\n",
       "      <td>1</td>\n",
       "      <td>prior</td>\n",
       "      <td>5</td>\n",
       "      <td>4</td>\n",
       "      <td>15</td>\n",
       "      <td>28</td>\n",
       "      <td>196</td>\n",
       "      <td>1</td>\n",
       "      <td>1</td>\n",
       "      <td>...</td>\n",
       "      <td>2/17/2019</td>\n",
       "      <td>3</td>\n",
       "      <td>married</td>\n",
       "      <td>40423</td>\n",
       "      <td>South</td>\n",
       "      <td>1</td>\n",
       "      <td>Adult</td>\n",
       "      <td>middle income</td>\n",
       "      <td>has dependents</td>\n",
       "      <td>beverages</td>\n",
       "    </tr>\n",
       "  </tbody>\n",
       "</table>\n",
       "<p>5 rows × 39 columns</p>\n",
       "</div>"
      ],
      "text/plain": [
       "   order_id  user_id eval_set  order_number  order_dow  order_hour_of_day  \\\n",
       "0   2539329        1    prior             1          2                  8   \n",
       "1   2398795        1    prior             2          3                  7   \n",
       "2    473747        1    prior             3          3                 12   \n",
       "3   2254736        1    prior             4          4                  7   \n",
       "4    431534        1    prior             5          4                 15   \n",
       "\n",
       "   days_since_prior_order  product_id  add_to_cart_order  reordered  ...  \\\n",
       "0                       0         196                  1          0  ...   \n",
       "1                      15         196                  1          1  ...   \n",
       "2                      21         196                  1          1  ...   \n",
       "3                      29         196                  1          1  ...   \n",
       "4                      28         196                  1          1  ...   \n",
       "\n",
       "   date_joined no_of_dependants  marital_status  income  region activity  \\\n",
       "0    2/17/2019                3         married   40423   South        1   \n",
       "1    2/17/2019                3         married   40423   South        1   \n",
       "2    2/17/2019                3         married   40423   South        1   \n",
       "3    2/17/2019                3         married   40423   South        1   \n",
       "4    2/17/2019                3         married   40423   South        1   \n",
       "\n",
       "  age_group   income_group dependent_group department  \n",
       "0     Adult  middle income  has dependents  beverages  \n",
       "1     Adult  middle income  has dependents  beverages  \n",
       "2     Adult  middle income  has dependents  beverages  \n",
       "3     Adult  middle income  has dependents  beverages  \n",
       "4     Adult  middle income  has dependents  beverages  \n",
       "\n",
       "[5 rows x 39 columns]"
      ]
     },
     "execution_count": 39,
     "metadata": {},
     "output_type": "execute_result"
    }
   ],
   "source": [
    "# mapping  department names to department id in dataframe\n",
    "df_active['department'] = df_active['department_id'].map(data_dict)\n",
    "df_active.head()"
   ]
  },
  {
   "cell_type": "markdown",
   "id": "c7b741e1",
   "metadata": {},
   "source": [
    "#### Department profiles will be based on the following departments: babies, alcohol, & pets.\n",
    "\n",
    "a) Baby profile"
   ]
  },
  {
   "cell_type": "code",
   "execution_count": 40,
   "id": "17ab1616",
   "metadata": {},
   "outputs": [
    {
     "name": "stderr",
     "output_type": "stream",
     "text": [
      "C:\\Users\\kamil\\AppData\\Local\\Temp\\ipykernel_10076\\2895261549.py:2: SettingWithCopyWarning: \n",
      "A value is trying to be set on a copy of a slice from a DataFrame.\n",
      "Try using .loc[row_indexer,col_indexer] = value instead\n",
      "\n",
      "See the caveats in the documentation: https://pandas.pydata.org/pandas-docs/stable/user_guide/indexing.html#returning-a-view-versus-a-copy\n",
      "  df_active['baby_status'] = [1 if x == 'babies' else 0 for x in df_active['department']]\n",
      "C:\\Users\\kamil\\AppData\\Local\\Temp\\ipykernel_10076\\2895261549.py:3: SettingWithCopyWarning: \n",
      "A value is trying to be set on a copy of a slice from a DataFrame.\n",
      "Try using .loc[row_indexer,col_indexer] = value instead\n",
      "\n",
      "See the caveats in the documentation: https://pandas.pydata.org/pandas-docs/stable/user_guide/indexing.html#returning-a-view-versus-a-copy\n",
      "  df_active['baby_status']=df_active.groupby(['user_id'])['baby_status'].transform(np.max)\n"
     ]
    },
    {
     "data": {
      "text/plain": [
       "0    21154311\n",
       "1     9810253\n",
       "Name: baby_status, dtype: int64"
      ]
     },
     "execution_count": 40,
     "metadata": {},
     "output_type": "execute_result"
    }
   ],
   "source": [
    "#Creating baby flag: bought baby supplies(1)/didn't buy baby supplies (0). \n",
    "df_active['baby_status'] = [1 if x == 'babies' else 0 for x in df_active['department']]\n",
    "df_active['baby_status']=df_active.groupby(['user_id'])['baby_status'].transform(np.max)\n",
    "df_active['baby_status'].value_counts(dropna=False)"
   ]
  },
  {
   "cell_type": "code",
   "execution_count": 41,
   "id": "168a2077",
   "metadata": {},
   "outputs": [
    {
     "data": {
      "text/html": [
       "<div>\n",
       "<style scoped>\n",
       "    .dataframe tbody tr th:only-of-type {\n",
       "        vertical-align: middle;\n",
       "    }\n",
       "\n",
       "    .dataframe tbody tr th {\n",
       "        vertical-align: top;\n",
       "    }\n",
       "\n",
       "    .dataframe thead tr th {\n",
       "        text-align: left;\n",
       "    }\n",
       "\n",
       "    .dataframe thead tr:last-of-type th {\n",
       "        text-align: right;\n",
       "    }\n",
       "</style>\n",
       "<table border=\"1\" class=\"dataframe\">\n",
       "  <thead>\n",
       "    <tr>\n",
       "      <th></th>\n",
       "      <th colspan=\"3\" halign=\"left\">prices</th>\n",
       "    </tr>\n",
       "    <tr>\n",
       "      <th></th>\n",
       "      <th>mean</th>\n",
       "      <th>min</th>\n",
       "      <th>max</th>\n",
       "    </tr>\n",
       "    <tr>\n",
       "      <th>baby_status</th>\n",
       "      <th></th>\n",
       "      <th></th>\n",
       "      <th></th>\n",
       "    </tr>\n",
       "  </thead>\n",
       "  <tbody>\n",
       "    <tr>\n",
       "      <th>0</th>\n",
       "      <td>12.480604</td>\n",
       "      <td>1.0</td>\n",
       "      <td>99999.0</td>\n",
       "    </tr>\n",
       "    <tr>\n",
       "      <th>1</th>\n",
       "      <td>10.753821</td>\n",
       "      <td>1.0</td>\n",
       "      <td>99999.0</td>\n",
       "    </tr>\n",
       "  </tbody>\n",
       "</table>\n",
       "</div>"
      ],
      "text/plain": [
       "                prices              \n",
       "                  mean  min      max\n",
       "baby_status                         \n",
       "0            12.480604  1.0  99999.0\n",
       "1            10.753821  1.0  99999.0"
      ]
     },
     "execution_count": 41,
     "metadata": {},
     "output_type": "execute_result"
    }
   ],
   "source": [
    "df_active.groupby('baby_status').agg({'prices': ['mean', 'min', 'max']})"
   ]
  },
  {
   "cell_type": "code",
   "execution_count": 42,
   "id": "65db9144",
   "metadata": {},
   "outputs": [
    {
     "data": {
      "text/html": [
       "<div>\n",
       "<style scoped>\n",
       "    .dataframe tbody tr th:only-of-type {\n",
       "        vertical-align: middle;\n",
       "    }\n",
       "\n",
       "    .dataframe tbody tr th {\n",
       "        vertical-align: top;\n",
       "    }\n",
       "\n",
       "    .dataframe thead tr th {\n",
       "        text-align: left;\n",
       "    }\n",
       "\n",
       "    .dataframe thead tr:last-of-type th {\n",
       "        text-align: right;\n",
       "    }\n",
       "</style>\n",
       "<table border=\"1\" class=\"dataframe\">\n",
       "  <thead>\n",
       "    <tr>\n",
       "      <th></th>\n",
       "      <th colspan=\"3\" halign=\"left\">median_days_since_prior_order</th>\n",
       "    </tr>\n",
       "    <tr>\n",
       "      <th></th>\n",
       "      <th>mean</th>\n",
       "      <th>min</th>\n",
       "      <th>max</th>\n",
       "    </tr>\n",
       "    <tr>\n",
       "      <th>baby_status</th>\n",
       "      <th></th>\n",
       "      <th></th>\n",
       "      <th></th>\n",
       "    </tr>\n",
       "  </thead>\n",
       "  <tbody>\n",
       "    <tr>\n",
       "      <th>0</th>\n",
       "      <td>10.011965</td>\n",
       "      <td>0.0</td>\n",
       "      <td>30.0</td>\n",
       "    </tr>\n",
       "    <tr>\n",
       "      <th>1</th>\n",
       "      <td>7.883953</td>\n",
       "      <td>0.0</td>\n",
       "      <td>30.0</td>\n",
       "    </tr>\n",
       "  </tbody>\n",
       "</table>\n",
       "</div>"
      ],
      "text/plain": [
       "            median_days_since_prior_order           \n",
       "                                     mean  min   max\n",
       "baby_status                                         \n",
       "0                               10.011965  0.0  30.0\n",
       "1                                7.883953  0.0  30.0"
      ]
     },
     "execution_count": 42,
     "metadata": {},
     "output_type": "execute_result"
    }
   ],
   "source": [
    "#aggregating for baby_status bracket order frequency\n",
    "df_active.groupby('baby_status').agg({'median_days_since_prior_order': ['mean', 'min', 'max']})"
   ]
  },
  {
   "cell_type": "markdown",
   "id": "485282f4",
   "metadata": {},
   "source": [
    "b) Pet Profile"
   ]
  },
  {
   "cell_type": "code",
   "execution_count": 43,
   "id": "e2384731",
   "metadata": {},
   "outputs": [
    {
     "name": "stderr",
     "output_type": "stream",
     "text": [
      "C:\\Users\\kamil\\AppData\\Local\\Temp\\ipykernel_10076\\3615906627.py:2: SettingWithCopyWarning: \n",
      "A value is trying to be set on a copy of a slice from a DataFrame.\n",
      "Try using .loc[row_indexer,col_indexer] = value instead\n",
      "\n",
      "See the caveats in the documentation: https://pandas.pydata.org/pandas-docs/stable/user_guide/indexing.html#returning-a-view-versus-a-copy\n",
      "  df_active['pet_status'] = [1 if x == 'pets' else 0 for x in df_active['department']]\n",
      "C:\\Users\\kamil\\AppData\\Local\\Temp\\ipykernel_10076\\3615906627.py:3: SettingWithCopyWarning: \n",
      "A value is trying to be set on a copy of a slice from a DataFrame.\n",
      "Try using .loc[row_indexer,col_indexer] = value instead\n",
      "\n",
      "See the caveats in the documentation: https://pandas.pydata.org/pandas-docs/stable/user_guide/indexing.html#returning-a-view-versus-a-copy\n",
      "  df_active['pet_status']=df_active.groupby(['user_id'])['pet_status'].transform(np.max)\n"
     ]
    },
    {
     "data": {
      "text/plain": [
       "0    27513213\n",
       "1     3451351\n",
       "Name: pet_status, dtype: int64"
      ]
     },
     "execution_count": 43,
     "metadata": {},
     "output_type": "execute_result"
    }
   ],
   "source": [
    "#Creating pet flag: bought pet supplies(1)/didn't buy pet supplies (0). \n",
    "df_active['pet_status'] = [1 if x == 'pets' else 0 for x in df_active['department']]\n",
    "df_active['pet_status']=df_active.groupby(['user_id'])['pet_status'].transform(np.max)\n",
    "df_active['pet_status'].value_counts(dropna=False)"
   ]
  },
  {
   "cell_type": "code",
   "execution_count": 44,
   "id": "cdbd6492",
   "metadata": {},
   "outputs": [
    {
     "data": {
      "text/html": [
       "<div>\n",
       "<style scoped>\n",
       "    .dataframe tbody tr th:only-of-type {\n",
       "        vertical-align: middle;\n",
       "    }\n",
       "\n",
       "    .dataframe tbody tr th {\n",
       "        vertical-align: top;\n",
       "    }\n",
       "\n",
       "    .dataframe thead tr th {\n",
       "        text-align: left;\n",
       "    }\n",
       "\n",
       "    .dataframe thead tr:last-of-type th {\n",
       "        text-align: right;\n",
       "    }\n",
       "</style>\n",
       "<table border=\"1\" class=\"dataframe\">\n",
       "  <thead>\n",
       "    <tr>\n",
       "      <th></th>\n",
       "      <th colspan=\"3\" halign=\"left\">prices</th>\n",
       "    </tr>\n",
       "    <tr>\n",
       "      <th></th>\n",
       "      <th>mean</th>\n",
       "      <th>min</th>\n",
       "      <th>max</th>\n",
       "    </tr>\n",
       "    <tr>\n",
       "      <th>pet_status</th>\n",
       "      <th></th>\n",
       "      <th></th>\n",
       "      <th></th>\n",
       "    </tr>\n",
       "  </thead>\n",
       "  <tbody>\n",
       "    <tr>\n",
       "      <th>0</th>\n",
       "      <td>11.635643</td>\n",
       "      <td>1.0</td>\n",
       "      <td>99999.0</td>\n",
       "    </tr>\n",
       "    <tr>\n",
       "      <th>1</th>\n",
       "      <td>14.308121</td>\n",
       "      <td>1.0</td>\n",
       "      <td>99999.0</td>\n",
       "    </tr>\n",
       "  </tbody>\n",
       "</table>\n",
       "</div>"
      ],
      "text/plain": [
       "               prices              \n",
       "                 mean  min      max\n",
       "pet_status                         \n",
       "0           11.635643  1.0  99999.0\n",
       "1           14.308121  1.0  99999.0"
      ]
     },
     "execution_count": 44,
     "metadata": {},
     "output_type": "execute_result"
    }
   ],
   "source": [
    "df_active.groupby('pet_status').agg({'prices': ['mean', 'min', 'max']})"
   ]
  },
  {
   "cell_type": "code",
   "execution_count": 45,
   "id": "81a04831",
   "metadata": {},
   "outputs": [
    {
     "data": {
      "text/html": [
       "<div>\n",
       "<style scoped>\n",
       "    .dataframe tbody tr th:only-of-type {\n",
       "        vertical-align: middle;\n",
       "    }\n",
       "\n",
       "    .dataframe tbody tr th {\n",
       "        vertical-align: top;\n",
       "    }\n",
       "\n",
       "    .dataframe thead tr th {\n",
       "        text-align: left;\n",
       "    }\n",
       "\n",
       "    .dataframe thead tr:last-of-type th {\n",
       "        text-align: right;\n",
       "    }\n",
       "</style>\n",
       "<table border=\"1\" class=\"dataframe\">\n",
       "  <thead>\n",
       "    <tr>\n",
       "      <th></th>\n",
       "      <th colspan=\"3\" halign=\"left\">median_days_since_prior_order</th>\n",
       "    </tr>\n",
       "    <tr>\n",
       "      <th></th>\n",
       "      <th>mean</th>\n",
       "      <th>min</th>\n",
       "      <th>max</th>\n",
       "    </tr>\n",
       "    <tr>\n",
       "      <th>pet_status</th>\n",
       "      <th></th>\n",
       "      <th></th>\n",
       "      <th></th>\n",
       "    </tr>\n",
       "  </thead>\n",
       "  <tbody>\n",
       "    <tr>\n",
       "      <th>0</th>\n",
       "      <td>9.419749</td>\n",
       "      <td>0.0</td>\n",
       "      <td>30.0</td>\n",
       "    </tr>\n",
       "    <tr>\n",
       "      <th>1</th>\n",
       "      <td>8.684205</td>\n",
       "      <td>0.0</td>\n",
       "      <td>30.0</td>\n",
       "    </tr>\n",
       "  </tbody>\n",
       "</table>\n",
       "</div>"
      ],
      "text/plain": [
       "           median_days_since_prior_order           \n",
       "                                    mean  min   max\n",
       "pet_status                                         \n",
       "0                               9.419749  0.0  30.0\n",
       "1                               8.684205  0.0  30.0"
      ]
     },
     "execution_count": 45,
     "metadata": {},
     "output_type": "execute_result"
    }
   ],
   "source": [
    "#aggregating for pet_status bracket order frequency\n",
    "df_active.groupby('pet_status').agg({'median_days_since_prior_order': ['mean', 'min', 'max']})"
   ]
  },
  {
   "cell_type": "markdown",
   "id": "2b7d3841",
   "metadata": {},
   "source": [
    "c) alcohol profile"
   ]
  },
  {
   "cell_type": "code",
   "execution_count": 46,
   "id": "baded034",
   "metadata": {},
   "outputs": [
    {
     "name": "stderr",
     "output_type": "stream",
     "text": [
      "C:\\Users\\kamil\\AppData\\Local\\Temp\\ipykernel_10076\\4209372794.py:2: SettingWithCopyWarning: \n",
      "A value is trying to be set on a copy of a slice from a DataFrame.\n",
      "Try using .loc[row_indexer,col_indexer] = value instead\n",
      "\n",
      "See the caveats in the documentation: https://pandas.pydata.org/pandas-docs/stable/user_guide/indexing.html#returning-a-view-versus-a-copy\n",
      "  df_active['alcohol_status'] = [1 if x == 'alcohol' else 0 for x in df_active['department']]\n",
      "C:\\Users\\kamil\\AppData\\Local\\Temp\\ipykernel_10076\\4209372794.py:3: SettingWithCopyWarning: \n",
      "A value is trying to be set on a copy of a slice from a DataFrame.\n",
      "Try using .loc[row_indexer,col_indexer] = value instead\n",
      "\n",
      "See the caveats in the documentation: https://pandas.pydata.org/pandas-docs/stable/user_guide/indexing.html#returning-a-view-versus-a-copy\n",
      "  df_active['alcohol_status']=df_active.groupby(['user_id'])['alcohol_status'].transform(np.max)\n"
     ]
    },
    {
     "data": {
      "text/plain": [
       "0    28634074\n",
       "1     2330490\n",
       "Name: alcohol_status, dtype: int64"
      ]
     },
     "execution_count": 46,
     "metadata": {},
     "output_type": "execute_result"
    }
   ],
   "source": [
    "#Creating alcohol flag: bought alcohol(1)/didn't buy alcohol(0). \n",
    "df_active['alcohol_status'] = [1 if x == 'alcohol' else 0 for x in df_active['department']]\n",
    "df_active['alcohol_status']=df_active.groupby(['user_id'])['alcohol_status'].transform(np.max)\n",
    "df_active['alcohol_status'].value_counts(dropna=False)"
   ]
  },
  {
   "cell_type": "code",
   "execution_count": 47,
   "id": "bb664548",
   "metadata": {},
   "outputs": [
    {
     "data": {
      "text/html": [
       "<div>\n",
       "<style scoped>\n",
       "    .dataframe tbody tr th:only-of-type {\n",
       "        vertical-align: middle;\n",
       "    }\n",
       "\n",
       "    .dataframe tbody tr th {\n",
       "        vertical-align: top;\n",
       "    }\n",
       "\n",
       "    .dataframe thead tr th {\n",
       "        text-align: left;\n",
       "    }\n",
       "\n",
       "    .dataframe thead tr:last-of-type th {\n",
       "        text-align: right;\n",
       "    }\n",
       "</style>\n",
       "<table border=\"1\" class=\"dataframe\">\n",
       "  <thead>\n",
       "    <tr>\n",
       "      <th></th>\n",
       "      <th colspan=\"3\" halign=\"left\">prices</th>\n",
       "    </tr>\n",
       "    <tr>\n",
       "      <th></th>\n",
       "      <th>mean</th>\n",
       "      <th>min</th>\n",
       "      <th>max</th>\n",
       "    </tr>\n",
       "    <tr>\n",
       "      <th>alcohol_status</th>\n",
       "      <th></th>\n",
       "      <th></th>\n",
       "      <th></th>\n",
       "    </tr>\n",
       "  </thead>\n",
       "  <tbody>\n",
       "    <tr>\n",
       "      <th>0</th>\n",
       "      <td>10.979561</td>\n",
       "      <td>1.0</td>\n",
       "      <td>99999.0</td>\n",
       "    </tr>\n",
       "    <tr>\n",
       "      <th>1</th>\n",
       "      <td>23.654561</td>\n",
       "      <td>1.0</td>\n",
       "      <td>99999.0</td>\n",
       "    </tr>\n",
       "  </tbody>\n",
       "</table>\n",
       "</div>"
      ],
      "text/plain": [
       "                   prices              \n",
       "                     mean  min      max\n",
       "alcohol_status                         \n",
       "0               10.979561  1.0  99999.0\n",
       "1               23.654561  1.0  99999.0"
      ]
     },
     "execution_count": 47,
     "metadata": {},
     "output_type": "execute_result"
    }
   ],
   "source": [
    "#aggregating for alcohol_status bracket expenditure\n",
    "df_active.groupby('alcohol_status').agg({'prices': ['mean', 'min', 'max']})"
   ]
  },
  {
   "cell_type": "code",
   "execution_count": 48,
   "id": "d3e98851",
   "metadata": {},
   "outputs": [
    {
     "data": {
      "text/html": [
       "<div>\n",
       "<style scoped>\n",
       "    .dataframe tbody tr th:only-of-type {\n",
       "        vertical-align: middle;\n",
       "    }\n",
       "\n",
       "    .dataframe tbody tr th {\n",
       "        vertical-align: top;\n",
       "    }\n",
       "\n",
       "    .dataframe thead tr th {\n",
       "        text-align: left;\n",
       "    }\n",
       "\n",
       "    .dataframe thead tr:last-of-type th {\n",
       "        text-align: right;\n",
       "    }\n",
       "</style>\n",
       "<table border=\"1\" class=\"dataframe\">\n",
       "  <thead>\n",
       "    <tr>\n",
       "      <th></th>\n",
       "      <th colspan=\"3\" halign=\"left\">median_days_since_prior_order</th>\n",
       "    </tr>\n",
       "    <tr>\n",
       "      <th></th>\n",
       "      <th>mean</th>\n",
       "      <th>min</th>\n",
       "      <th>max</th>\n",
       "    </tr>\n",
       "    <tr>\n",
       "      <th>alcohol_status</th>\n",
       "      <th></th>\n",
       "      <th></th>\n",
       "      <th></th>\n",
       "    </tr>\n",
       "  </thead>\n",
       "  <tbody>\n",
       "    <tr>\n",
       "      <th>0</th>\n",
       "      <td>9.358180</td>\n",
       "      <td>0.0</td>\n",
       "      <td>30.0</td>\n",
       "    </tr>\n",
       "    <tr>\n",
       "      <th>1</th>\n",
       "      <td>9.086919</td>\n",
       "      <td>0.0</td>\n",
       "      <td>30.0</td>\n",
       "    </tr>\n",
       "  </tbody>\n",
       "</table>\n",
       "</div>"
      ],
      "text/plain": [
       "               median_days_since_prior_order           \n",
       "                                        mean  min   max\n",
       "alcohol_status                                         \n",
       "0                                   9.358180  0.0  30.0\n",
       "1                                   9.086919  0.0  30.0"
      ]
     },
     "execution_count": 48,
     "metadata": {},
     "output_type": "execute_result"
    }
   ],
   "source": [
    "#aggregating for alcohol_status bracket order frequency\n",
    "df_active.groupby('alcohol_status').agg({'median_days_since_prior_order': ['mean', 'min', 'max']})"
   ]
  },
  {
   "cell_type": "markdown",
   "id": "5c348042",
   "metadata": {},
   "source": [
    "# 8.Customer Profile Vizualizations"
   ]
  },
  {
   "cell_type": "markdown",
   "id": "36c98331",
   "metadata": {},
   "source": [
    "Create an appropriate visualization to show the distribution of profiles."
   ]
  },
  {
   "cell_type": "code",
   "execution_count": 49,
   "id": "ddc3d5c3",
   "metadata": {},
   "outputs": [],
   "source": [
    "#Creating a subset with unique customers\n",
    "df_unique=df_active.drop_duplicates(subset='user_id')"
   ]
  },
  {
   "cell_type": "code",
   "execution_count": 50,
   "id": "341b48b8",
   "metadata": {},
   "outputs": [
    {
     "data": {
      "text/html": [
       "<div>\n",
       "<style scoped>\n",
       "    .dataframe tbody tr th:only-of-type {\n",
       "        vertical-align: middle;\n",
       "    }\n",
       "\n",
       "    .dataframe tbody tr th {\n",
       "        vertical-align: top;\n",
       "    }\n",
       "\n",
       "    .dataframe thead th {\n",
       "        text-align: right;\n",
       "    }\n",
       "</style>\n",
       "<table border=\"1\" class=\"dataframe\">\n",
       "  <thead>\n",
       "    <tr style=\"text-align: right;\">\n",
       "      <th></th>\n",
       "      <th>order_id</th>\n",
       "      <th>user_id</th>\n",
       "      <th>eval_set</th>\n",
       "      <th>order_number</th>\n",
       "      <th>order_dow</th>\n",
       "      <th>order_hour_of_day</th>\n",
       "      <th>days_since_prior_order</th>\n",
       "      <th>product_id</th>\n",
       "      <th>add_to_cart_order</th>\n",
       "      <th>reordered</th>\n",
       "      <th>...</th>\n",
       "      <th>income</th>\n",
       "      <th>region</th>\n",
       "      <th>activity</th>\n",
       "      <th>age_group</th>\n",
       "      <th>income_group</th>\n",
       "      <th>dependent_group</th>\n",
       "      <th>department</th>\n",
       "      <th>baby_status</th>\n",
       "      <th>pet_status</th>\n",
       "      <th>alcohol_status</th>\n",
       "    </tr>\n",
       "  </thead>\n",
       "  <tbody>\n",
       "    <tr>\n",
       "      <th>0</th>\n",
       "      <td>2539329</td>\n",
       "      <td>1</td>\n",
       "      <td>prior</td>\n",
       "      <td>1</td>\n",
       "      <td>2</td>\n",
       "      <td>8</td>\n",
       "      <td>0</td>\n",
       "      <td>196</td>\n",
       "      <td>1</td>\n",
       "      <td>0</td>\n",
       "      <td>...</td>\n",
       "      <td>40423</td>\n",
       "      <td>South</td>\n",
       "      <td>1</td>\n",
       "      <td>Adult</td>\n",
       "      <td>middle income</td>\n",
       "      <td>has dependents</td>\n",
       "      <td>beverages</td>\n",
       "      <td>0</td>\n",
       "      <td>0</td>\n",
       "      <td>0</td>\n",
       "    </tr>\n",
       "    <tr>\n",
       "      <th>59</th>\n",
       "      <td>2968173</td>\n",
       "      <td>15</td>\n",
       "      <td>prior</td>\n",
       "      <td>15</td>\n",
       "      <td>1</td>\n",
       "      <td>9</td>\n",
       "      <td>7</td>\n",
       "      <td>196</td>\n",
       "      <td>2</td>\n",
       "      <td>0</td>\n",
       "      <td>...</td>\n",
       "      <td>54313</td>\n",
       "      <td>Midwest</td>\n",
       "      <td>1</td>\n",
       "      <td>Senior</td>\n",
       "      <td>middle income</td>\n",
       "      <td>no dependents</td>\n",
       "      <td>beverages</td>\n",
       "      <td>0</td>\n",
       "      <td>0</td>\n",
       "      <td>0</td>\n",
       "    </tr>\n",
       "    <tr>\n",
       "      <th>131</th>\n",
       "      <td>2293453</td>\n",
       "      <td>19</td>\n",
       "      <td>prior</td>\n",
       "      <td>2</td>\n",
       "      <td>5</td>\n",
       "      <td>14</td>\n",
       "      <td>6</td>\n",
       "      <td>196</td>\n",
       "      <td>3</td>\n",
       "      <td>0</td>\n",
       "      <td>...</td>\n",
       "      <td>151988</td>\n",
       "      <td>South</td>\n",
       "      <td>1</td>\n",
       "      <td>Adult</td>\n",
       "      <td>high income</td>\n",
       "      <td>has dependents</td>\n",
       "      <td>beverages</td>\n",
       "      <td>0</td>\n",
       "      <td>0</td>\n",
       "      <td>0</td>\n",
       "    </tr>\n",
       "    <tr>\n",
       "      <th>335</th>\n",
       "      <td>1573906</td>\n",
       "      <td>21</td>\n",
       "      <td>prior</td>\n",
       "      <td>10</td>\n",
       "      <td>3</td>\n",
       "      <td>10</td>\n",
       "      <td>6</td>\n",
       "      <td>196</td>\n",
       "      <td>2</td>\n",
       "      <td>0</td>\n",
       "      <td>...</td>\n",
       "      <td>124643</td>\n",
       "      <td>West</td>\n",
       "      <td>1</td>\n",
       "      <td>Senior</td>\n",
       "      <td>middle income</td>\n",
       "      <td>no dependents</td>\n",
       "      <td>beverages</td>\n",
       "      <td>0</td>\n",
       "      <td>0</td>\n",
       "      <td>1</td>\n",
       "    </tr>\n",
       "    <tr>\n",
       "      <th>540</th>\n",
       "      <td>1593000</td>\n",
       "      <td>31</td>\n",
       "      <td>prior</td>\n",
       "      <td>10</td>\n",
       "      <td>3</td>\n",
       "      <td>8</td>\n",
       "      <td>7</td>\n",
       "      <td>196</td>\n",
       "      <td>17</td>\n",
       "      <td>0</td>\n",
       "      <td>...</td>\n",
       "      <td>52311</td>\n",
       "      <td>South</td>\n",
       "      <td>1</td>\n",
       "      <td>Adult</td>\n",
       "      <td>middle income</td>\n",
       "      <td>has dependents</td>\n",
       "      <td>beverages</td>\n",
       "      <td>0</td>\n",
       "      <td>0</td>\n",
       "      <td>1</td>\n",
       "    </tr>\n",
       "    <tr>\n",
       "      <th>...</th>\n",
       "      <td>...</td>\n",
       "      <td>...</td>\n",
       "      <td>...</td>\n",
       "      <td>...</td>\n",
       "      <td>...</td>\n",
       "      <td>...</td>\n",
       "      <td>...</td>\n",
       "      <td>...</td>\n",
       "      <td>...</td>\n",
       "      <td>...</td>\n",
       "      <td>...</td>\n",
       "      <td>...</td>\n",
       "      <td>...</td>\n",
       "      <td>...</td>\n",
       "      <td>...</td>\n",
       "      <td>...</td>\n",
       "      <td>...</td>\n",
       "      <td>...</td>\n",
       "      <td>...</td>\n",
       "      <td>...</td>\n",
       "      <td>...</td>\n",
       "    </tr>\n",
       "    <tr>\n",
       "      <th>32404782</th>\n",
       "      <td>149359</td>\n",
       "      <td>178074</td>\n",
       "      <td>prior</td>\n",
       "      <td>1</td>\n",
       "      <td>1</td>\n",
       "      <td>15</td>\n",
       "      <td>0</td>\n",
       "      <td>19318</td>\n",
       "      <td>1</td>\n",
       "      <td>0</td>\n",
       "      <td>...</td>\n",
       "      <td>37731</td>\n",
       "      <td>South</td>\n",
       "      <td>1</td>\n",
       "      <td>Adult</td>\n",
       "      <td>low income</td>\n",
       "      <td>no dependents</td>\n",
       "      <td>pantry</td>\n",
       "      <td>0</td>\n",
       "      <td>0</td>\n",
       "      <td>0</td>\n",
       "    </tr>\n",
       "    <tr>\n",
       "      <th>32404798</th>\n",
       "      <td>707001</td>\n",
       "      <td>11534</td>\n",
       "      <td>prior</td>\n",
       "      <td>1</td>\n",
       "      <td>3</td>\n",
       "      <td>12</td>\n",
       "      <td>0</td>\n",
       "      <td>42387</td>\n",
       "      <td>1</td>\n",
       "      <td>0</td>\n",
       "      <td>...</td>\n",
       "      <td>103023</td>\n",
       "      <td>South</td>\n",
       "      <td>1</td>\n",
       "      <td>Senior</td>\n",
       "      <td>middle income</td>\n",
       "      <td>no dependents</td>\n",
       "      <td>beverages</td>\n",
       "      <td>0</td>\n",
       "      <td>0</td>\n",
       "      <td>0</td>\n",
       "    </tr>\n",
       "    <tr>\n",
       "      <th>32404810</th>\n",
       "      <td>1280763</td>\n",
       "      <td>105857</td>\n",
       "      <td>prior</td>\n",
       "      <td>1</td>\n",
       "      <td>1</td>\n",
       "      <td>22</td>\n",
       "      <td>0</td>\n",
       "      <td>23767</td>\n",
       "      <td>1</td>\n",
       "      <td>0</td>\n",
       "      <td>...</td>\n",
       "      <td>48873</td>\n",
       "      <td>West</td>\n",
       "      <td>1</td>\n",
       "      <td>Adult</td>\n",
       "      <td>middle income</td>\n",
       "      <td>has dependents</td>\n",
       "      <td>alcohol</td>\n",
       "      <td>0</td>\n",
       "      <td>0</td>\n",
       "      <td>1</td>\n",
       "    </tr>\n",
       "    <tr>\n",
       "      <th>32404819</th>\n",
       "      <td>968657</td>\n",
       "      <td>120516</td>\n",
       "      <td>prior</td>\n",
       "      <td>1</td>\n",
       "      <td>2</td>\n",
       "      <td>9</td>\n",
       "      <td>0</td>\n",
       "      <td>8566</td>\n",
       "      <td>1</td>\n",
       "      <td>0</td>\n",
       "      <td>...</td>\n",
       "      <td>76190</td>\n",
       "      <td>West</td>\n",
       "      <td>1</td>\n",
       "      <td>Young Adult</td>\n",
       "      <td>middle income</td>\n",
       "      <td>no dependents</td>\n",
       "      <td>pantry</td>\n",
       "      <td>0</td>\n",
       "      <td>0</td>\n",
       "      <td>0</td>\n",
       "    </tr>\n",
       "    <tr>\n",
       "      <th>32404829</th>\n",
       "      <td>259165</td>\n",
       "      <td>106143</td>\n",
       "      <td>prior</td>\n",
       "      <td>1</td>\n",
       "      <td>2</td>\n",
       "      <td>21</td>\n",
       "      <td>0</td>\n",
       "      <td>19675</td>\n",
       "      <td>1</td>\n",
       "      <td>0</td>\n",
       "      <td>...</td>\n",
       "      <td>53755</td>\n",
       "      <td>West</td>\n",
       "      <td>1</td>\n",
       "      <td>Young Adult</td>\n",
       "      <td>middle income</td>\n",
       "      <td>no dependents</td>\n",
       "      <td>beverages</td>\n",
       "      <td>0</td>\n",
       "      <td>0</td>\n",
       "      <td>0</td>\n",
       "    </tr>\n",
       "  </tbody>\n",
       "</table>\n",
       "<p>162631 rows × 42 columns</p>\n",
       "</div>"
      ],
      "text/plain": [
       "          order_id  user_id eval_set  order_number  order_dow  \\\n",
       "0          2539329        1    prior             1          2   \n",
       "59         2968173       15    prior            15          1   \n",
       "131        2293453       19    prior             2          5   \n",
       "335        1573906       21    prior            10          3   \n",
       "540        1593000       31    prior            10          3   \n",
       "...            ...      ...      ...           ...        ...   \n",
       "32404782    149359   178074    prior             1          1   \n",
       "32404798    707001    11534    prior             1          3   \n",
       "32404810   1280763   105857    prior             1          1   \n",
       "32404819    968657   120516    prior             1          2   \n",
       "32404829    259165   106143    prior             1          2   \n",
       "\n",
       "          order_hour_of_day  days_since_prior_order  product_id  \\\n",
       "0                         8                       0         196   \n",
       "59                        9                       7         196   \n",
       "131                      14                       6         196   \n",
       "335                      10                       6         196   \n",
       "540                       8                       7         196   \n",
       "...                     ...                     ...         ...   \n",
       "32404782                 15                       0       19318   \n",
       "32404798                 12                       0       42387   \n",
       "32404810                 22                       0       23767   \n",
       "32404819                  9                       0        8566   \n",
       "32404829                 21                       0       19675   \n",
       "\n",
       "          add_to_cart_order  reordered  ...  income   region  activity  \\\n",
       "0                         1          0  ...   40423    South         1   \n",
       "59                        2          0  ...   54313  Midwest         1   \n",
       "131                       3          0  ...  151988    South         1   \n",
       "335                       2          0  ...  124643     West         1   \n",
       "540                      17          0  ...   52311    South         1   \n",
       "...                     ...        ...  ...     ...      ...       ...   \n",
       "32404782                  1          0  ...   37731    South         1   \n",
       "32404798                  1          0  ...  103023    South         1   \n",
       "32404810                  1          0  ...   48873     West         1   \n",
       "32404819                  1          0  ...   76190     West         1   \n",
       "32404829                  1          0  ...   53755     West         1   \n",
       "\n",
       "            age_group   income_group dependent_group department baby_status  \\\n",
       "0               Adult  middle income  has dependents  beverages           0   \n",
       "59             Senior  middle income   no dependents  beverages           0   \n",
       "131             Adult    high income  has dependents  beverages           0   \n",
       "335            Senior  middle income   no dependents  beverages           0   \n",
       "540             Adult  middle income  has dependents  beverages           0   \n",
       "...               ...            ...             ...        ...         ...   \n",
       "32404782        Adult     low income   no dependents     pantry           0   \n",
       "32404798       Senior  middle income   no dependents  beverages           0   \n",
       "32404810        Adult  middle income  has dependents    alcohol           0   \n",
       "32404819  Young Adult  middle income   no dependents     pantry           0   \n",
       "32404829  Young Adult  middle income   no dependents  beverages           0   \n",
       "\n",
       "         pet_status alcohol_status  \n",
       "0                 0              0  \n",
       "59                0              0  \n",
       "131               0              0  \n",
       "335               0              1  \n",
       "540               0              1  \n",
       "...             ...            ...  \n",
       "32404782          0              0  \n",
       "32404798          0              0  \n",
       "32404810          0              1  \n",
       "32404819          0              0  \n",
       "32404829          0              0  \n",
       "\n",
       "[162631 rows x 42 columns]"
      ]
     },
     "execution_count": 50,
     "metadata": {},
     "output_type": "execute_result"
    }
   ],
   "source": [
    "df_unique"
   ]
  },
  {
   "cell_type": "markdown",
   "id": "7c585a64",
   "metadata": {},
   "source": [
    "a) Age profile"
   ]
  },
  {
   "cell_type": "code",
   "execution_count": 51,
   "id": "305959a8",
   "metadata": {},
   "outputs": [
    {
     "data": {
      "text/plain": [
       "Text(0, 0.5, 'Number of Customers')"
      ]
     },
     "execution_count": 51,
     "metadata": {},
     "output_type": "execute_result"
    },
    {
     "data": {
      "image/png": "[encoded data removed]",
      "text/plain": [
       "<Figure size 2016x1080 with 1 Axes>"
      ]
     },
     "metadata": {},
     "output_type": "display_data"
    }
   ],
   "source": [
    "#Setting script figure size to 28,15\n",
    "sns.set(rc = {'figure.figsize':(28,15)})\n",
    "#Creating a bar chart for age distribution of customers\n",
    "bar=df_unique['age_group'].value_counts().plot.bar(color='darkblue', edgecolor='cyan',fontsize=20)\n",
    "plt.title('Distribution of Age', fontsize=35)\n",
    "plt.xlabel('Age Group', fontsize=20)\n",
    "plt.ylabel('Number of Customers', fontsize=20)"
   ]
  },
  {
   "cell_type": "code",
   "execution_count": 52,
   "id": "336cb4ba",
   "metadata": {},
   "outputs": [],
   "source": [
    "#exporting bar chart\n",
    "bar.figure.savefig(os.path.join(path, '04 Analysis','Visualizations', 'bar_age_distribution.png'))"
   ]
  },
  {
   "cell_type": "markdown",
   "id": "9648a9ab",
   "metadata": {},
   "source": [
    "b) Income Profile"
   ]
  },
  {
   "cell_type": "code",
   "execution_count": 53,
   "id": "0492dd8a",
   "metadata": {},
   "outputs": [
    {
     "data": {
      "text/plain": [
       "Text(0.5, 0, 'Number of Customers')"
      ]
     },
     "execution_count": 53,
     "metadata": {},
     "output_type": "execute_result"
    },
    {
     "data": {
      "image/png": "[encoded data removed]",
      "text/plain": [
       "<Figure size 2016x1080 with 1 Axes>"
      ]
     },
     "metadata": {},
     "output_type": "display_data"
    }
   ],
   "source": [
    "#creating a horizontal bar chart\n",
    "income_bar=df_unique['income_group'].value_counts().sort_values().plot.barh(color='darkgreen', edgecolor='gold',fontsize=20)\n",
    "plt.title('Distribution of Income', fontsize=35)\n",
    "plt.xlabel('Number of Customers', fontsize=20)"
   ]
  },
  {
   "cell_type": "code",
   "execution_count": 54,
   "id": "b13653f1",
   "metadata": {},
   "outputs": [],
   "source": [
    "income_bar.figure.savefig(os.path.join(path, '04 Analysis','Visualizations', 'bar_income_distribution.png'))"
   ]
  },
  {
   "cell_type": "markdown",
   "id": "4851b778",
   "metadata": {},
   "source": [
    "c. Family Status & Dependents Profile"
   ]
  },
  {
   "cell_type": "code",
   "execution_count": 55,
   "id": "7581fc4d",
   "metadata": {},
   "outputs": [
    {
     "data": {
      "text/html": [
       "<div>\n",
       "<style scoped>\n",
       "    .dataframe tbody tr th:only-of-type {\n",
       "        vertical-align: middle;\n",
       "    }\n",
       "\n",
       "    .dataframe tbody tr th {\n",
       "        vertical-align: top;\n",
       "    }\n",
       "\n",
       "    .dataframe thead th {\n",
       "        text-align: right;\n",
       "    }\n",
       "</style>\n",
       "<table border=\"1\" class=\"dataframe\">\n",
       "  <thead>\n",
       "    <tr style=\"text-align: right;\">\n",
       "      <th>dependent_group</th>\n",
       "      <th>has dependents</th>\n",
       "      <th>no dependents</th>\n",
       "    </tr>\n",
       "    <tr>\n",
       "      <th>marital_status</th>\n",
       "      <th></th>\n",
       "      <th></th>\n",
       "    </tr>\n",
       "  </thead>\n",
       "  <tbody>\n",
       "    <tr>\n",
       "      <th>divorced/widowed</th>\n",
       "      <td>0</td>\n",
       "      <td>13831</td>\n",
       "    </tr>\n",
       "    <tr>\n",
       "      <th>living with parents and siblings</th>\n",
       "      <td>7608</td>\n",
       "      <td>0</td>\n",
       "    </tr>\n",
       "    <tr>\n",
       "      <th>married</th>\n",
       "      <td>114296</td>\n",
       "      <td>0</td>\n",
       "    </tr>\n",
       "    <tr>\n",
       "      <th>single</th>\n",
       "      <td>0</td>\n",
       "      <td>26896</td>\n",
       "    </tr>\n",
       "  </tbody>\n",
       "</table>\n",
       "</div>"
      ],
      "text/plain": [
       "dependent_group                   has dependents  no dependents\n",
       "marital_status                                                 \n",
       "divorced/widowed                               0          13831\n",
       "living with parents and siblings            7608              0\n",
       "married                                   114296              0\n",
       "single                                         0          26896"
      ]
     },
     "execution_count": 55,
     "metadata": {},
     "output_type": "execute_result"
    }
   ],
   "source": [
    "#Creating a crosstab for dependants and family status\n",
    "depend=pd.crosstab(df_unique['marital_status'], df_unique['dependent_group'])\n",
    "depend"
   ]
  },
  {
   "cell_type": "code",
   "execution_count": 56,
   "id": "1cc13b09",
   "metadata": {},
   "outputs": [
    {
     "data": {
      "text/plain": [
       "<matplotlib.legend.Legend at 0x241a5b76340>"
      ]
     },
     "execution_count": 56,
     "metadata": {},
     "output_type": "execute_result"
    },
    {
     "data": {
      "image/png": "[encoded data removed]",
      "text/plain": [
       "<Figure size 2016x1080 with 1 Axes>"
      ]
     },
     "metadata": {},
     "output_type": "display_data"
    }
   ],
   "source": [
    "#creating a horizontal bar chart\n",
    "depend_bar=depend.plot.barh(color=['steelblue','green'], edgecolor='deeppink',fontsize=20)\n",
    "plt.title('Famly Status & No. of Dependents', fontsize=35)\n",
    "plt.xlabel('Number of Customers', fontsize=20)\n",
    "plt.ylabel('family status', fontsize=20)\n",
    "plt.legend(fontsize=20)"
   ]
  },
  {
   "cell_type": "code",
   "execution_count": 57,
   "id": "2f2bd42c",
   "metadata": {},
   "outputs": [],
   "source": [
    "depend_bar.figure.savefig(os.path.join(path, '04 Analysis','Visualizations', 'bar_depend_famstatus_distribution.png'))"
   ]
  },
  {
   "cell_type": "markdown",
   "id": "816b972b",
   "metadata": {},
   "source": [
    "d) Baby Profile"
   ]
  },
  {
   "cell_type": "code",
   "execution_count": 58,
   "id": "31bdf57e",
   "metadata": {},
   "outputs": [
    {
     "data": {
      "text/plain": [
       "0    132401\n",
       "1     30230\n",
       "Name: baby_status, dtype: int64"
      ]
     },
     "execution_count": 58,
     "metadata": {},
     "output_type": "execute_result"
    }
   ],
   "source": [
    "df_unique['baby_status'].value_counts()"
   ]
  },
  {
   "cell_type": "markdown",
   "id": "d00f89e6",
   "metadata": {},
   "source": [
    "0 means they have not purchased baby supplies and 1 means they have purchased baby supplies"
   ]
  },
  {
   "cell_type": "code",
   "execution_count": 59,
   "id": "ce2a4790",
   "metadata": {},
   "outputs": [
    {
     "data": {
      "image/png": "[encoded data removed]",
      "text/plain": [
       "<Figure size 1296x576 with 1 Axes>"
      ]
     },
     "metadata": {},
     "output_type": "display_data"
    }
   ],
   "source": [
    "sns.set(rc = {'figure.figsize':(18,8)})\n",
    "#Creating a pie chart for customers who have bought baby stuff\n",
    "baby_pie=df_unique['baby_status'].value_counts().plot.pie(label='', labels=['has not purchased baby supplies', 'has purchased baby supplies'],autopct=('%1.f%%'), colors=['lightblue','pink'], textprops={'fontsize': 20})"
   ]
  },
  {
   "cell_type": "code",
   "execution_count": 60,
   "id": "9d789286",
   "metadata": {},
   "outputs": [],
   "source": [
    "baby_pie.figure.savefig(os.path.join(path, '04 Analysis','Visualizations', 'baby_pie.png'))"
   ]
  },
  {
   "cell_type": "markdown",
   "id": "5d2576e8",
   "metadata": {},
   "source": [
    "e) Pet Profile"
   ]
  },
  {
   "cell_type": "code",
   "execution_count": 61,
   "id": "3f808b52",
   "metadata": {},
   "outputs": [
    {
     "data": {
      "text/plain": [
       "0    149456\n",
       "1     13175\n",
       "Name: pet_status, dtype: int64"
      ]
     },
     "execution_count": 61,
     "metadata": {},
     "output_type": "execute_result"
    }
   ],
   "source": [
    "df_unique['pet_status'].value_counts()"
   ]
  },
  {
   "cell_type": "markdown",
   "id": "0ee7a151",
   "metadata": {},
   "source": [
    "0 means they have not purchased pet supplies and 1 means they have purchased pet supplies"
   ]
  },
  {
   "cell_type": "code",
   "execution_count": 63,
   "id": "ddf2babe",
   "metadata": {},
   "outputs": [
    {
     "data": {
      "image/png": "[encoded data removed]",
      "text/plain": [
       "<Figure size 1296x576 with 1 Axes>"
      ]
     },
     "metadata": {},
     "output_type": "display_data"
    }
   ],
   "source": [
    "#Creating a pie chart for customers who have bought pet stuff\n",
    "pet_pie=df_unique['pet_status'].value_counts().plot.pie(label='', labels=['has not purchased pet supplies', 'has purchased pet supplies'],autopct=('%1.f%%'), colors=['blue','turquoise'], textprops={'fontsize': 20})"
   ]
  },
  {
   "cell_type": "code",
   "execution_count": 64,
   "id": "b2a390d0",
   "metadata": {},
   "outputs": [],
   "source": [
    "#exporting pie chart\n",
    "pet_pie.figure.savefig(os.path.join(path, '04 Analysis','Visualizations', 'pet_pie.png'))"
   ]
  },
  {
   "cell_type": "markdown",
   "id": "19ed59ee",
   "metadata": {},
   "source": [
    "f) Alcohol Profile"
   ]
  },
  {
   "cell_type": "code",
   "execution_count": 65,
   "id": "86b8cba0",
   "metadata": {},
   "outputs": [
    {
     "data": {
      "text/plain": [
       "0    149480\n",
       "1     13151\n",
       "Name: alcohol_status, dtype: int64"
      ]
     },
     "execution_count": 65,
     "metadata": {},
     "output_type": "execute_result"
    }
   ],
   "source": [
    "df_unique['alcohol_status'].value_counts()"
   ]
  },
  {
   "cell_type": "markdown",
   "id": "95bfa49e",
   "metadata": {},
   "source": [
    "0 means they have not purchased alcohol and \n",
    "1 means they have purchased alcohol"
   ]
  },
  {
   "cell_type": "code",
   "execution_count": 68,
   "id": "04b10471",
   "metadata": {},
   "outputs": [
    {
     "data": {
      "image/png": "[encoded data removed]",
      "text/plain": [
       "<Figure size 1296x576 with 1 Axes>"
      ]
     },
     "metadata": {},
     "output_type": "display_data"
    }
   ],
   "source": [
    "#Creating a pie chart for customers who have bought pet stuff\n",
    "alcohol_pie=df_unique['alcohol_status'].value_counts().plot.pie(label='', labels=['has not purchased alcohol', 'has purchased alcohol'],autopct=('%1.f%%'), colors=['lightblue','yellow'], textprops={'fontsize': 20})"
   ]
  },
  {
   "cell_type": "code",
   "execution_count": 69,
   "id": "5ae7f9ca",
   "metadata": {},
   "outputs": [],
   "source": [
    "#exporting pie chart\n",
    "alcohol_pie.figure.savefig(os.path.join(path, '04 Analysis','Visualizations', 'alcohol_pie.png'))"
   ]
  },
  {
   "cell_type": "markdown",
   "id": "6fba0354",
   "metadata": {},
   "source": [
    "# 9.Comparison Visualizations"
   ]
  },
  {
   "cell_type": "markdown",
   "id": "be799c38",
   "metadata": {},
   "source": [
    "Compare your customer profiles with regions and departments. Can you identify a link between them? Customers may demonstrate different behaviors across regions, which could make this information important."
   ]
  },
  {
   "cell_type": "markdown",
   "id": "0a61b33f",
   "metadata": {},
   "source": [
    "a) Region Distributions"
   ]
  },
  {
   "cell_type": "code",
   "execution_count": 71,
   "id": "6ea326a5",
   "metadata": {},
   "outputs": [],
   "source": [
    "#creating crosstab for region and age group\n",
    "age_region=pd.crosstab(index=df_unique['region'], columns=df_unique['age_group'], normalize=\"index\")\n",
    "#creating cross tab to display labels\n",
    "age_region_labels=pd.crosstab(index=df_unique['region'],columns=df_unique['age_group'])"
   ]
  },
  {
   "cell_type": "code",
   "execution_count": 76,
   "id": "00d4d6c6",
   "metadata": {},
   "outputs": [
    {
     "data": {
      "image/png": "[encoded data removed]",
      "text/plain": [
       "<Figure size 864x720 with 1 Axes>"
      ]
     },
     "metadata": {},
     "output_type": "display_data"
    }
   ],
   "source": [
    "#creating stacked bar chart for age_region distribution\n",
    "age_region_dist=age_region.plot(kind='bar', \n",
    "                        stacked=True, \n",
    "                        color=['orchid','skyblue','green'], \n",
    "                        figsize=(12,10))\n",
    "\n",
    "plt.title('Distribution of Age Groups by Region', fontsize=25)\n",
    "plt.legend(loc=\"upper center\", ncol=4)\n",
    "plt.xlabel(\"Region\")\n",
    "\n",
    "\n",
    "for n, y in enumerate([*age_region_labels.index.values]):\n",
    "    for (proportion, count, x_loc) in zip(age_region.loc[y],\n",
    "                                         age_region_labels.loc[y],\n",
    "                                          age_region.loc[y].cumsum()):\n",
    "                \n",
    "        plt.text(y=(x_loc - proportion) + (proportion / 2),\n",
    "                 x=n - 0.11,\n",
    "                 s=f'{count}\\n({np.round(proportion * 100, 1)}%)', \n",
    "                 color=\"black\",\n",
    "                 fontsize=12)\n",
    "\n",
    "plt.show()"
   ]
  },
  {
   "cell_type": "code",
   "execution_count": 77,
   "id": "7bb798ed",
   "metadata": {},
   "outputs": [],
   "source": [
    "#exporting stacked bar chart\n",
    "age_region_dist.figure.savefig(os.path.join(path, '04 Analysis','Visualizations', 'age_region_stacked.png'))"
   ]
  },
  {
   "cell_type": "code",
   "execution_count": 78,
   "id": "79abffd0",
   "metadata": {},
   "outputs": [],
   "source": [
    "#creating crosstab for region and income group\n",
    "income_region=pd.crosstab(index=df_unique['region'], columns=df_unique['income_group'], normalize=\"index\")\n",
    "#creating cross tab to display labels\n",
    "income_region_labels=pd.crosstab(index=df_unique['region'],columns=df_unique['income_group'])"
   ]
  },
  {
   "cell_type": "code",
   "execution_count": 79,
   "id": "f00ce848",
   "metadata": {},
   "outputs": [
    {
     "data": {
      "image/png": "[encoded data removed]",
      "text/plain": [
       "<Figure size 864x720 with 1 Axes>"
      ]
     },
     "metadata": {},
     "output_type": "display_data"
    }
   ],
   "source": [
    "#creating stacked bar chart for income_region distribution\n",
    "income_region_dist=income_region.plot(kind='bar', \n",
    "                        stacked=True, \n",
    "                        color=['seagreen','yellow','lightsteelblue'], \n",
    "                        figsize=(12,10))\n",
    "\n",
    "plt.title('Distribution of Income Groups by Region', fontsize=25)\n",
    "plt.legend(loc=\"upper center\", ncol=3)\n",
    "plt.xlabel(\"Region\")\n",
    "\n",
    "\n",
    "for n, y in enumerate([*income_region_labels.index.values]):\n",
    "    for (proportion, count, x_loc) in zip(income_region.loc[y],\n",
    "                                         income_region_labels.loc[y],\n",
    "                                          income_region.loc[y].cumsum()):\n",
    "                \n",
    "        plt.text(y=(x_loc - proportion) + (proportion / 2),\n",
    "                 x=n - 0.11,\n",
    "                 s=f'{count}\\n({np.round(proportion * 100, 1)}%)', \n",
    "                 color=\"black\",\n",
    "                 fontsize=12)\n",
    "\n",
    "plt.show()"
   ]
  },
  {
   "cell_type": "code",
   "execution_count": 81,
   "id": "183154a6",
   "metadata": {},
   "outputs": [],
   "source": [
    "#exporting stacked bar chart\n",
    "income_region_dist.figure.savefig(os.path.join(path, '04 Analysis','Visualizations', 'income_region_stacked.png'))"
   ]
  },
  {
   "cell_type": "code",
   "execution_count": 82,
   "id": "c0d69d9a",
   "metadata": {},
   "outputs": [],
   "source": [
    "#creating crosstab for region and customer loyalty\n",
    "loyalty_region=pd.crosstab(index=df_unique['region'], columns=df_unique['loyalty_flag'], normalize=\"index\")\n",
    "#creating cross tab to display labels\n",
    "loyalty_region_labels=pd.crosstab(index=df_unique['region'],columns=df_unique['loyalty_flag'])"
   ]
  },
  {
   "cell_type": "code",
   "execution_count": 86,
   "id": "d802915e",
   "metadata": {},
   "outputs": [
    {
     "data": {
      "image/png": "[encoded data removed]",
      "text/plain": [
       "<Figure size 864x720 with 1 Axes>"
      ]
     },
     "metadata": {},
     "output_type": "display_data"
    }
   ],
   "source": [
    "#creating stacked bar chart for loyalty_region distribution\n",
    "loyalty_region_dist=loyalty_region.plot(kind='bar', \n",
    "                        stacked=True, \n",
    "                        color=['slategray','lightblue','lightgray'], \n",
    "                        figsize=(12,10))\n",
    "\n",
    "plt.title('Distribution Customer Loyalty by Region', fontsize=25)\n",
    "plt.legend(loc=\"upper center\", ncol=3)\n",
    "plt.xlabel(\"Region\")\n",
    "\n",
    "\n",
    "for n, y in enumerate([*loyalty_region_labels.index.values]):\n",
    "    for (proportion, count, x_loc) in zip(loyalty_region.loc[y],\n",
    "                                         loyalty_region_labels.loc[y],\n",
    "                                          loyalty_region.loc[y].cumsum()):\n",
    "                \n",
    "        plt.text(y=(x_loc - proportion) + (proportion / 2),\n",
    "                 x=n - 0.11,\n",
    "                 s=f'{count}\\n({np.round(proportion * 100, 1)}%)', \n",
    "                 color=\"black\",\n",
    "                 fontsize=12)\n",
    "\n",
    "plt.show()"
   ]
  },
  {
   "cell_type": "code",
   "execution_count": 87,
   "id": "5df1326e",
   "metadata": {},
   "outputs": [],
   "source": [
    "#exporting stacked bar chart\n",
    "loyalty_region_dist.figure.savefig(os.path.join(path, '04 Analysis','Visualizations', 'loyalty_region_stacked.png'))"
   ]
  },
  {
   "cell_type": "code",
   "execution_count": 88,
   "id": "6a9cd2ac",
   "metadata": {},
   "outputs": [],
   "source": [
    "#creating crosstab for region and product price range purchases\n",
    "price_range_region=pd.crosstab(index=df_unique['region'], columns=df_unique['price_range_loc'], normalize=\"index\")\n",
    "#creating cross tab to display labels\n",
    "price_range_region_labels=pd.crosstab(index=df_unique['region'],columns=df_unique['price_range_loc'])"
   ]
  },
  {
   "cell_type": "code",
   "execution_count": 89,
   "id": "5bec1f29",
   "metadata": {},
   "outputs": [
    {
     "data": {
      "image/png": "[encoded data removed]",
      "text/plain": [
       "<Figure size 864x720 with 1 Axes>"
      ]
     },
     "metadata": {},
     "output_type": "display_data"
    }
   ],
   "source": [
    "#creating stacked bar chart for price_range_region distribution\n",
    "price_range_region_dist=price_range_region.plot(kind='bar', \n",
    "                        stacked=True, \n",
    "                        color=['darkcyan','paleturquoise','lightcyan'], \n",
    "                        figsize=(12,10))\n",
    "\n",
    "plt.title('Distribution of Product Price Range Purchases by Region', fontsize=25)\n",
    "plt.legend(loc=\"upper center\", ncol=3)\n",
    "plt.xlabel(\"Region\")\n",
    "\n",
    "\n",
    "for n, y in enumerate([*price_range_region_labels.index.values]):\n",
    "    for (proportion, count, x_loc) in zip(price_range_region.loc[y],\n",
    "                                         price_range_region_labels.loc[y],\n",
    "                                          price_range_region.loc[y].cumsum()):\n",
    "                \n",
    "        plt.text(y=(x_loc - proportion) + (proportion / 2),\n",
    "                 x=n - 0.11,\n",
    "                 s=f'{count}\\n({np.round(proportion * 100, 1)}%)', \n",
    "                 color=\"black\",\n",
    "                 fontsize=12)\n",
    "\n",
    "plt.show()"
   ]
  },
  {
   "cell_type": "code",
   "execution_count": 90,
   "id": "8b5df510",
   "metadata": {},
   "outputs": [],
   "source": [
    "#exporting stacked bar chart\n",
    "price_range_region_dist.figure.savefig(os.path.join(path, '04 Analysis','Visualizations', 'price_range_region_stacked.png'))"
   ]
  },
  {
   "cell_type": "code",
   "execution_count": 91,
   "id": "22bca330",
   "metadata": {},
   "outputs": [],
   "source": [
    "#creating crosstab for region and department\n",
    "dept_region=pd.crosstab(index=df_unique['department'], columns=df_unique['region'], normalize=\"index\")\n",
    "#creating cross tab to display labels\n",
    "dept_region_labels=pd.crosstab(index=df_unique['department'],columns=df_unique['region'])"
   ]
  },
  {
   "cell_type": "code",
   "execution_count": 93,
   "id": "2fdb5ff4",
   "metadata": {},
   "outputs": [
    {
     "data": {
      "image/png": "[encoded data removed]",
      "text/plain": [
       "<Figure size 864x720 with 1 Axes>"
      ]
     },
     "metadata": {},
     "output_type": "display_data"
    }
   ],
   "source": [
    "#creating stacked bar chart for dept_region distribution\n",
    "dept_region_dist=dept_region.plot(kind='bar', \n",
    "                        stacked=True, \n",
    "                        color=['yellow','green','turquoise','darkblue'], \n",
    "                        figsize=(12,10))\n",
    "\n",
    "plt.title('Distribution of Department Orders by Region', fontsize=25)\n",
    "plt.legend(loc=\"upper center\", ncol=4)\n",
    "plt.xlabel(\"Departments\")\n",
    "\n",
    "plt.show()"
   ]
  },
  {
   "cell_type": "code",
   "execution_count": 94,
   "id": "6e83a888",
   "metadata": {},
   "outputs": [],
   "source": [
    "#exporting stacked bar chart\n",
    "dept_region_dist.figure.savefig(os.path.join(path, '04 Analysis','Visualizations', 'dept_region_stacked.png'))"
   ]
  },
  {
   "cell_type": "markdown",
   "id": "cebd1b1d",
   "metadata": {},
   "source": [
    "b) Order Frequency Distributions\n"
   ]
  },
  {
   "cell_type": "code",
   "execution_count": 95,
   "id": "05fd4c5c",
   "metadata": {},
   "outputs": [],
   "source": [
    "#creating crosstab for order frequency and income\n",
    "income_frequency=pd.crosstab(index=df_unique['income_group'], columns=df_unique['frequency_flag'], normalize=\"index\")\n",
    "#creating cross tab to display labels\n",
    "income_frequency_labels=pd.crosstab(index=df_unique['income_group'],columns=df_unique['frequency_flag'])"
   ]
  },
  {
   "cell_type": "code",
   "execution_count": 98,
   "id": "9cd426f3",
   "metadata": {},
   "outputs": [
    {
     "data": {
      "image/png": "[encoded data removed]",
      "text/plain": [
       "<Figure size 864x720 with 1 Axes>"
      ]
     },
     "metadata": {},
     "output_type": "display_data"
    }
   ],
   "source": [
    "#creating stacked bar chart for income & order frequency\n",
    "income_frequency_dist=income_frequency.plot(kind='bar', \n",
    "                        stacked=True, \n",
    "                        color=['red','green','lightblue'], \n",
    "                        figsize=(12,10))\n",
    "\n",
    "plt.title('Order Frequency by Income Groups', fontsize=25)\n",
    "plt.legend(loc=\"upper center\", ncol=3)\n",
    "plt.xlabel(\"Income Group\")\n",
    "\n",
    "\n",
    "for n, y in enumerate([*income_frequency_labels.index.values]):\n",
    "    for (proportion, count, x_loc) in zip(income_frequency.loc[y],\n",
    "                                         income_frequency_labels.loc[y],\n",
    "                                          income_frequency.loc[y].cumsum()):\n",
    "                \n",
    "        plt.text(y=(x_loc - proportion) + (proportion / 2),\n",
    "                 x=n - 0.11,\n",
    "                 s=f'{count}\\n({np.round(proportion * 100, 1)}%)', \n",
    "                 color=\"black\",\n",
    "                 fontsize=12)\n",
    "\n",
    "plt.show()"
   ]
  },
  {
   "cell_type": "code",
   "execution_count": 99,
   "id": "f168feaa",
   "metadata": {},
   "outputs": [],
   "source": [
    "#exporting stacked bar chart\n",
    "income_frequency_dist.figure.savefig(os.path.join(path, '04 Analysis','Visualizations', 'income_frequency_stacked.png'))"
   ]
  },
  {
   "cell_type": "code",
   "execution_count": 100,
   "id": "3cdde6e1",
   "metadata": {},
   "outputs": [],
   "source": [
    "#creating crosstab for order frequency and age group\n",
    "age_frequency=pd.crosstab(index=df_unique['age_group'], columns=df_unique['frequency_flag'], normalize=\"index\")\n",
    "#creating cross tab to display labels\n",
    "age_frequency_labels=pd.crosstab(index=df_unique['age_group'],columns=df_unique['frequency_flag'])"
   ]
  },
  {
   "cell_type": "code",
   "execution_count": 102,
   "id": "6b2aeddd",
   "metadata": {},
   "outputs": [
    {
     "data": {
      "image/png": "[encoded data removed]",
      "text/plain": [
       "<Figure size 864x720 with 1 Axes>"
      ]
     },
     "metadata": {},
     "output_type": "display_data"
    }
   ],
   "source": [
    "#creating stacked bar chart for age & order frequency\n",
    "age_frequency_dist=age_frequency.plot(kind='bar', \n",
    "                        stacked=True, \n",
    "                        color=['lightblue','lightgreen','violet'], \n",
    "                        figsize=(12,10))\n",
    "\n",
    "plt.title('Order Frequency by Age Groups', fontsize=25)\n",
    "plt.legend(loc=\"upper center\", ncol=3)\n",
    "plt.xlabel(\"Age Group\")\n",
    "\n",
    "\n",
    "for n, y in enumerate([*age_frequency_labels.index.values]):\n",
    "    for (proportion, count, x_loc) in zip(age_frequency.loc[y],\n",
    "                                         age_frequency_labels.loc[y],\n",
    "                                          age_frequency.loc[y].cumsum()):\n",
    "                \n",
    "        plt.text(y=(x_loc - proportion) + (proportion / 2),\n",
    "                 x=n - 0.11,\n",
    "                 s=f'{count}\\n({np.round(proportion * 100, 1)}%)', \n",
    "                 color=\"black\",\n",
    "                 fontsize=12)\n",
    "\n",
    "plt.show()"
   ]
  },
  {
   "cell_type": "code",
   "execution_count": 103,
   "id": "95b1e1dc",
   "metadata": {},
   "outputs": [],
   "source": [
    "#exporting stacked bar chart\n",
    "age_frequency_dist.figure.savefig(os.path.join(path, '04 Analysis','Visualizations', 'age_frequency_stacked.png'))"
   ]
  },
  {
   "cell_type": "code",
   "execution_count": 106,
   "id": "8256eb90",
   "metadata": {},
   "outputs": [],
   "source": [
    "#creating crosstab for order frequency and family status\n",
    "family_frequency=pd.crosstab(index=df_unique['marital_status'], columns=df_unique['frequency_flag'], normalize=\"index\")\n",
    "#creating cross tab to display labels\n",
    "family_frequency_labels=pd.crosstab(index=df_unique['marital_status'],columns=df_unique['frequency_flag'])"
   ]
  },
  {
   "cell_type": "code",
   "execution_count": 107,
   "id": "e31bb63b",
   "metadata": {},
   "outputs": [
    {
     "data": {
      "image/png": "[encoded data removed]",
      "text/plain": [
       "<Figure size 864x720 with 1 Axes>"
      ]
     },
     "metadata": {},
     "output_type": "display_data"
    }
   ],
   "source": [
    "#creating stacked bar chart for family status & order frequency\n",
    "family_frequency_dist=family_frequency.plot(kind='bar', \n",
    "                        stacked=True, \n",
    "                        color=['steelblue','navajowhite','thistle'], \n",
    "                        figsize=(12,10))\n",
    "\n",
    "plt.title('Order Frequency by Family Status', fontsize=25)\n",
    "plt.legend(loc=\"upper center\", ncol=3)\n",
    "plt.xlabel(\"Family Status\")\n",
    "\n",
    "\n",
    "for n, y in enumerate([*family_frequency_labels.index.values]):\n",
    "    for (proportion, count, x_loc) in zip(family_frequency.loc[y],\n",
    "                                         family_frequency_labels.loc[y],\n",
    "                                          family_frequency.loc[y].cumsum()):\n",
    "                \n",
    "        plt.text(y=(x_loc - proportion) + (proportion / 2),\n",
    "                 x=n - 0.11,\n",
    "                 s=f'{count}\\n({np.round(proportion * 100, 1)}%)', \n",
    "                 color=\"black\",\n",
    "                 fontsize=12)\n",
    "\n",
    "plt.show()"
   ]
  },
  {
   "cell_type": "code",
   "execution_count": 108,
   "id": "daf45368",
   "metadata": {},
   "outputs": [],
   "source": [
    "#exporting family_frequency_dist\n",
    "family_frequency_dist.figure.savefig(os.path.join(path, '04 Analysis','Visualizations', 'family_frequency_stacked.png'))"
   ]
  },
  {
   "cell_type": "markdown",
   "id": "7ec89950",
   "metadata": {},
   "source": [
    "# 10. Basic Visualisation"
   ]
  },
  {
   "cell_type": "code",
   "execution_count": 109,
   "id": "da1bdec6",
   "metadata": {},
   "outputs": [],
   "source": [
    "#defining function to show labels on charts\n",
    "def show_values(axs, orient=\"v\", space=.01):\n",
    "    def _single(ax):\n",
    "        if orient == \"v\":\n",
    "            for p in ax.patches:\n",
    "                _x = p.get_x() + p.get_width() / 2\n",
    "                _y = p.get_y() + p.get_height() + (p.get_height()*0.01)\n",
    "                value = '{:.1f}'.format(p.get_height())\n",
    "                ax.text(_x, _y, value, ha=\"center\") \n",
    "        elif orient == \"h\":\n",
    "            for p in ax.patches:\n",
    "                _x = p.get_x() + p.get_width() + float(space)\n",
    "                _y = p.get_y() + p.get_height() - (p.get_height()*0.5)\n",
    "                value = '{:.1f}'.format(p.get_width())\n",
    "                ax.text(_x, _y, value, ha=\"left\")\n",
    "\n",
    "    if isinstance(axs, np.ndarray):\n",
    "        for idx, ax in np.ndenumerate(axs):\n",
    "            _single(ax)\n",
    "    else:\n",
    "        _single(axs)"
   ]
  },
  {
   "cell_type": "code",
   "execution_count": 111,
   "id": "04264266",
   "metadata": {},
   "outputs": [
    {
     "data": {
      "image/png": "[encoded data removed]",
      "text/plain": [
       "<Figure size 1008x864 with 1 Axes>"
      ]
     },
     "metadata": {},
     "output_type": "display_data"
    }
   ],
   "source": [
    "#creating bar chart for orders made from each department\n",
    "department_bar=df_active.department.value_counts().sort_values().plot(kind = 'barh',color=['violet'],figsize=[14,12])\n",
    "show_values(department_bar, \"h\", space=0)"
   ]
  },
  {
   "cell_type": "code",
   "execution_count": 112,
   "id": "359cd0cd",
   "metadata": {},
   "outputs": [],
   "source": [
    "#exporting horizontal bar chart\n",
    "department_bar.figure.savefig(os.path.join(path, '04 Analysis','Visualizations', 'department_bar.png'))"
   ]
  },
  {
   "cell_type": "code",
   "execution_count": 113,
   "id": "ccc00592",
   "metadata": {},
   "outputs": [
    {
     "data": {
      "image/png": "[encoded data removed]",
      "text/plain": [
       "<Figure size 1296x576 with 1 Axes>"
      ]
     },
     "metadata": {},
     "output_type": "display_data"
    }
   ],
   "source": [
    "#creating pie chart for price range distribution\n",
    "labels = 'Mid-range product', 'Low-range product', 'High-range product'\n",
    "sizes = df_active['price_range_loc'].value_counts()\n",
    "colors = ['mediumpurple','mediumorchid','plum']\n",
    "textprops = {\"fontsize\":20}\n",
    "\n",
    "price_pie, ax = plt.subplots()\n",
    "ax.pie(sizes,labels=labels,colors=colors,autopct='%1.1f%%',\n",
    "        shadow=True, startangle=90,textprops=textprops)\n",
    "ax.axis('equal')  \n",
    "\n",
    "plt.legend()\n",
    "plt.show()"
   ]
  },
  {
   "cell_type": "code",
   "execution_count": 114,
   "id": "d900769c",
   "metadata": {},
   "outputs": [],
   "source": [
    "#exporting price_pie\n",
    "price_pie.figure.savefig(os.path.join(path, '04 Analysis','Visualizations', 'price_pie.png'))"
   ]
  },
  {
   "cell_type": "code",
   "execution_count": 115,
   "id": "328a9329",
   "metadata": {},
   "outputs": [
    {
     "data": {
      "image/png": "[encoded data removed]",
      "text/plain": [
       "<Figure size 1296x576 with 1 Axes>"
      ]
     },
     "metadata": {},
     "output_type": "display_data"
    }
   ],
   "source": [
    "# Distribution of orders based on brand loyalty\n",
    "labels = 'Regular customer', 'New customer', 'Loyal customer'\n",
    "sizes = df_unique['loyalty_flag'].value_counts()\n",
    "colors = ['forestgreen','limegreen','lightgreen']\n",
    "textprops = {\"fontsize\":20}\n",
    "\n",
    "loyalty_pie, ax = plt.subplots()\n",
    "ax.pie(sizes,labels=labels,colors=colors,autopct='%1.1f%%',\n",
    "        shadow=True, startangle=90,textprops=textprops)\n",
    "ax.axis('equal')  \n",
    "\n",
    "plt.legend()\n",
    "plt.show()"
   ]
  },
  {
   "cell_type": "code",
   "execution_count": 116,
   "id": "6732a9de",
   "metadata": {},
   "outputs": [],
   "source": [
    "#exporting loyalty_pie\n",
    "loyalty_pie.figure.savefig(os.path.join(path, '04 Analysis','Visualizations', 'loyalty_pie.png'))"
   ]
  },
  {
   "cell_type": "code",
   "execution_count": 117,
   "id": "74c1f810",
   "metadata": {},
   "outputs": [
    {
     "data": {
      "text/plain": [
       "Regular customer    76864\n",
       "New customer        68750\n",
       "Loyal customer      17017\n",
       "Name: loyalty_flag, dtype: int64"
      ]
     },
     "execution_count": 117,
     "metadata": {},
     "output_type": "execute_result"
    }
   ],
   "source": [
    "df_unique['loyalty_flag'].value_counts()"
   ]
  },
  {
   "cell_type": "code",
   "execution_count": 118,
   "id": "fd089b36",
   "metadata": {},
   "outputs": [
    {
     "data": {
      "text/html": [
       "<div>\n",
       "<style scoped>\n",
       "    .dataframe tbody tr th:only-of-type {\n",
       "        vertical-align: middle;\n",
       "    }\n",
       "\n",
       "    .dataframe tbody tr th {\n",
       "        vertical-align: top;\n",
       "    }\n",
       "\n",
       "    .dataframe thead tr th {\n",
       "        text-align: left;\n",
       "    }\n",
       "\n",
       "    .dataframe thead tr:last-of-type th {\n",
       "        text-align: right;\n",
       "    }\n",
       "</style>\n",
       "<table border=\"1\" class=\"dataframe\">\n",
       "  <thead>\n",
       "    <tr>\n",
       "      <th></th>\n",
       "      <th colspan=\"3\" halign=\"left\">prices</th>\n",
       "    </tr>\n",
       "    <tr>\n",
       "      <th></th>\n",
       "      <th>mean</th>\n",
       "      <th>min</th>\n",
       "      <th>max</th>\n",
       "    </tr>\n",
       "    <tr>\n",
       "      <th>loyalty_flag</th>\n",
       "      <th></th>\n",
       "      <th></th>\n",
       "      <th></th>\n",
       "    </tr>\n",
       "  </thead>\n",
       "  <tbody>\n",
       "    <tr>\n",
       "      <th>Loyal customer</th>\n",
       "      <td>10.386336</td>\n",
       "      <td>1.0</td>\n",
       "      <td>99999.0</td>\n",
       "    </tr>\n",
       "    <tr>\n",
       "      <th>New customer</th>\n",
       "      <td>13.387725</td>\n",
       "      <td>1.0</td>\n",
       "      <td>99999.0</td>\n",
       "    </tr>\n",
       "    <tr>\n",
       "      <th>Regular customer</th>\n",
       "      <td>12.495717</td>\n",
       "      <td>1.0</td>\n",
       "      <td>99999.0</td>\n",
       "    </tr>\n",
       "  </tbody>\n",
       "</table>\n",
       "</div>"
      ],
      "text/plain": [
       "                     prices              \n",
       "                       mean  min      max\n",
       "loyalty_flag                             \n",
       "Loyal customer    10.386336  1.0  99999.0\n",
       "New customer      13.387725  1.0  99999.0\n",
       "Regular customer  12.495717  1.0  99999.0"
      ]
     },
     "execution_count": 118,
     "metadata": {},
     "output_type": "execute_result"
    }
   ],
   "source": [
    "#Difference in spending habits among customers based on loyalty flag\n",
    "df_active.groupby(['loyalty_flag']).agg({'prices':['mean', 'min', 'max']})"
   ]
  },
  {
   "cell_type": "code",
   "execution_count": 120,
   "id": "0b2baf6a",
   "metadata": {},
   "outputs": [
    {
     "data": {
      "text/html": [
       "<div>\n",
       "<style scoped>\n",
       "    .dataframe tbody tr th:only-of-type {\n",
       "        vertical-align: middle;\n",
       "    }\n",
       "\n",
       "    .dataframe tbody tr th {\n",
       "        vertical-align: top;\n",
       "    }\n",
       "\n",
       "    .dataframe thead tr th {\n",
       "        text-align: left;\n",
       "    }\n",
       "\n",
       "    .dataframe thead tr:last-of-type th {\n",
       "        text-align: right;\n",
       "    }\n",
       "</style>\n",
       "<table border=\"1\" class=\"dataframe\">\n",
       "  <thead>\n",
       "    <tr>\n",
       "      <th></th>\n",
       "      <th colspan=\"3\" halign=\"left\">median_days_since_prior_order</th>\n",
       "    </tr>\n",
       "    <tr>\n",
       "      <th></th>\n",
       "      <th>mean</th>\n",
       "      <th>min</th>\n",
       "      <th>max</th>\n",
       "    </tr>\n",
       "    <tr>\n",
       "      <th>loyalty_flag</th>\n",
       "      <th></th>\n",
       "      <th></th>\n",
       "      <th></th>\n",
       "    </tr>\n",
       "  </thead>\n",
       "  <tbody>\n",
       "    <tr>\n",
       "      <th>Loyal customer</th>\n",
       "      <td>5.109445</td>\n",
       "      <td>0.0</td>\n",
       "      <td>14.0</td>\n",
       "    </tr>\n",
       "    <tr>\n",
       "      <th>New customer</th>\n",
       "      <td>15.954754</td>\n",
       "      <td>0.0</td>\n",
       "      <td>30.0</td>\n",
       "    </tr>\n",
       "    <tr>\n",
       "      <th>Regular customer</th>\n",
       "      <td>10.074591</td>\n",
       "      <td>0.0</td>\n",
       "      <td>30.0</td>\n",
       "    </tr>\n",
       "  </tbody>\n",
       "</table>\n",
       "</div>"
      ],
      "text/plain": [
       "                 median_days_since_prior_order           \n",
       "                                          mean  min   max\n",
       "loyalty_flag                                             \n",
       "Loyal customer                        5.109445  0.0  14.0\n",
       "New customer                         15.954754  0.0  30.0\n",
       "Regular customer                     10.074591  0.0  30.0"
      ]
     },
     "execution_count": 120,
     "metadata": {},
     "output_type": "execute_result"
    }
   ],
   "source": [
    "#Difference in order frequency among customers based on loyalty flag\n",
    "df_active.groupby(['loyalty_flag']).agg({'median_days_since_prior_order':['mean', 'min', 'max']})"
   ]
  },
  {
   "cell_type": "markdown",
   "id": "dad38db7",
   "metadata": {},
   "source": [
    "# 11.Exporting Final Dataset"
   ]
  },
  {
   "cell_type": "code",
   "execution_count": 122,
   "id": "7e2413d5",
   "metadata": {},
   "outputs": [],
   "source": [
    "#exporting final dataset of active customers\n",
    "df_active.to_pickle(os.path.join(path, '02 Data','Prepared Data', 'full_instacart_data_final.pkl'))"
   ]
  },
  {
   "cell_type": "code",
   "execution_count": 123,
   "id": "8b2609b4",
   "metadata": {},
   "outputs": [],
   "source": [
    "#exporting final dataset of unique customers\n",
    "df_unique.to_pickle(os.path.join(path, '02 Data','Prepared Data', 'unique_dataset_for_profiles.pkl'))"
   ]
  },
  {
   "cell_type": "code",
   "execution_count": null,
   "id": "7fe8477c",
   "metadata": {},
   "outputs": [],
   "source": []
  }
 ],
 "metadata": {
  "kernelspec": {
   "display_name": "Python 3 (ipykernel)",
   "language": "python",
   "name": "python3"
  },
  "language_info": {
   "codemirror_mode": {
    "name": "ipython",
    "version": 3
   },
   "file_extension": ".py",
   "mimetype": "text/x-python",
   "name": "python",
   "nbconvert_exporter": "python",
   "pygments_lexer": "ipython3",
   "version": "3.9.12"
  }
 },
 "nbformat": 4,
 "nbformat_minor": 5
}
